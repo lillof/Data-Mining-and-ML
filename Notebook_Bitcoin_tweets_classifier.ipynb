{
  "cells": [
    {
      "cell_type": "code",
      "execution_count": null,
      "metadata": {
        "id": "CQBUzoqd-62h"
      },
      "outputs": [],
      "source": [
        "import numpy as np # linear algebra\n",
        "import pandas as pd # data processing"
      ]
    },
    {
      "cell_type": "markdown",
      "metadata": {
        "id": "a0sSx5UD-62o"
      },
      "source": [
        "Quiero asociar a cada fecha el numero de usuarios totales que hablaron de bitcoin ese dia. Para esto necesito las columnas de fecha y de username. Agrupando por fecha, contare el numero de usuarios distintos de fomra de obtener un numero que despues pueda agregar al otro dataset.\n",
        "\n",
        "Partimos con la limpieza de los datos. Para esto eliminamos las columnas que no necesitamos, que serian todas menos la de username y la de la fecha. Y la de la fecha la discretizaremos a dias, descartando en que hora, minuto y segundo fue hecho el tweet. Ademas usaremos los tweets desde el 2016-01-01."
      ]
    },
    {
      "cell_type": "code",
      "execution_count": null,
      "metadata": {
        "id": "mzlNkJd_-62r",
        "outputId": "4f15aed9-af02-4d06-e36f-87fb503b9f87"
      },
      "outputs": [
        {
          "name": "stderr",
          "output_type": "stream",
          "text": [
            "/opt/anaconda3/lib/python3.7/site-packages/IPython/core/interactiveshell.py:3063: DtypeWarning: Columns (3) have mixed types.Specify dtype option on import or set low_memory=False.\n",
            "  interactivity=interactivity, compiler=compiler, result=result)\n",
            "/opt/anaconda3/lib/python3.7/site-packages/ipykernel_launcher.py:5: SettingWithCopyWarning: \n",
            "A value is trying to be set on a copy of a slice from a DataFrame.\n",
            "Try using .loc[row_indexer,col_indexer] = value instead\n",
            "\n",
            "See the caveats in the documentation: https://pandas.pydata.org/pandas-docs/stable/user_guide/indexing.html#returning-a-view-versus-a-copy\n",
            "  \"\"\"\n"
          ]
        }
      ],
      "source": [
        "# Reading the dataset with no columns titles and with latin encoding \n",
        "df_raw = pd.read_csv('/Users/josevera/Desktop/mineria de datos/proyecto/tweets.csv', delimiter=\";\", skiprows=0, lineterminator=\"\\n\" )\n",
        "df_raw.columns = [\"id\", \"user\", \"fullname\", \"url\", \"timestamp\", \"replies\",\"likes\",\"retweets\",\"text\"] #le pongo el nombre a las columnas\n",
        "df = df_raw[['id','timestamp']] #extraemos solo las que nos importan\n",
        "df['date'] = pd.to_datetime(df['timestamp'],format= '%Y-%m-%d').dt.date  #creamos la columna date son solo año-mes-dia\n",
        "df = df.sort_values(by='date')     #ordenamos por fecha\n",
        "df=df[['id','date']]#eliminamos la columna timestamp que no necesitamos             \n",
        "df['indice'] = df['date'] #duplicamos la columna date\n",
        "df = df.set_index('indice')    #definimos el index como la fecha\n",
        "startdate = pd.to_datetime(\"2015-12-31\").date() #definimos fecha de inicio\n",
        "df = df.loc[startdate:] #aplicamos la fecha de inicio al dataset\n",
        "result = df.groupby(by='date', as_index=False).agg({'id': pd.Series.nunique}) #por ultimo, agrupamos por fecha en result, teniendo en id el numero de personas que twittearon \n",
        "result = result.rename(columns={\"id\":\"Tweets_yesterday\"})"
      ]
    },
    {
      "cell_type": "markdown",
      "metadata": {
        "id": "HCpYIlwZ-62v"
      },
      "source": [
        "Queremos basar nuestro modelo predictivo en los tweets del dia anterior, por lo que necesitaremos partir desde un dia antes del 1 de enero del 2016 y sumarles un dia, de esta manera podemos buscar si existe alguna influencia en el numero de tweets del dia anterior con la fluctuacion de precios (sea en aumento o disminucion del precio). Procedemos entonces a sumar un dia a la columna 'date':"
      ]
    },
    {
      "cell_type": "code",
      "execution_count": null,
      "metadata": {
        "id": "h-ZwDG8u-62x",
        "outputId": "a40db83a-8991-404d-d956-066964885979"
      },
      "outputs": [
        {
          "data": {
            "text/html": [
              "<div>\n",
              "<style scoped>\n",
              "    .dataframe tbody tr th:only-of-type {\n",
              "        vertical-align: middle;\n",
              "    }\n",
              "\n",
              "    .dataframe tbody tr th {\n",
              "        vertical-align: top;\n",
              "    }\n",
              "\n",
              "    .dataframe thead th {\n",
              "        text-align: right;\n",
              "    }\n",
              "</style>\n",
              "<table border=\"1\" class=\"dataframe\">\n",
              "  <thead>\n",
              "    <tr style=\"text-align: right;\">\n",
              "      <th></th>\n",
              "      <th>date</th>\n",
              "      <th>Tweets_yesterday</th>\n",
              "      <th>Fecha</th>\n",
              "    </tr>\n",
              "  </thead>\n",
              "  <tbody>\n",
              "    <tr>\n",
              "      <th>0</th>\n",
              "      <td>2015-12-31</td>\n",
              "      <td>579.0</td>\n",
              "      <td>2016-01-01</td>\n",
              "    </tr>\n",
              "    <tr>\n",
              "      <th>1</th>\n",
              "      <td>2016-01-01</td>\n",
              "      <td>700.0</td>\n",
              "      <td>2016-01-02</td>\n",
              "    </tr>\n",
              "    <tr>\n",
              "      <th>2</th>\n",
              "      <td>2016-01-02</td>\n",
              "      <td>657.0</td>\n",
              "      <td>2016-01-03</td>\n",
              "    </tr>\n",
              "    <tr>\n",
              "      <th>3</th>\n",
              "      <td>2016-01-03</td>\n",
              "      <td>474.0</td>\n",
              "      <td>2016-01-04</td>\n",
              "    </tr>\n",
              "    <tr>\n",
              "      <th>4</th>\n",
              "      <td>2016-01-04</td>\n",
              "      <td>525.0</td>\n",
              "      <td>2016-01-05</td>\n",
              "    </tr>\n",
              "  </tbody>\n",
              "</table>\n",
              "</div>"
            ],
            "text/plain": [
              "         date  Tweets_yesterday       Fecha\n",
              "0  2015-12-31             579.0  2016-01-01\n",
              "1  2016-01-01             700.0  2016-01-02\n",
              "2  2016-01-02             657.0  2016-01-03\n",
              "3  2016-01-03             474.0  2016-01-04\n",
              "4  2016-01-04             525.0  2016-01-05"
            ]
          },
          "execution_count": 3,
          "metadata": {},
          "output_type": "execute_result"
        }
      ],
      "source": [
        "result['Fecha'] = result['date'] + pd.Timedelta('1 days')\n",
        "result.head()"
      ]
    },
    {
      "cell_type": "markdown",
      "metadata": {
        "id": "JKvFd9lF-62y"
      },
      "source": [
        "Ya habiendo terminado con la preparacion de los datos de los tweets estan preparados para un join, procedemos a los datos del bitcoin. Los datos de los tweets son desde el 1 de enero de 2016 hasta el 24 de noviembre de 2019.\n",
        "\n",
        "Si nos vamos a la realidad, es casi imposible determinar un valor exacto para el bitcoin. Por esto buscaremos algo mas sencillo pero igual de util. Nuestro clasificador buscara predecir si el valor con el que cerrara el bitcoin ese dia (close) sera mayor o menor que el valor con el que abrio (Open). Esto nos permite determinar si vale la pena invertir al inicio de ese dia o no.\n",
        "\n",
        "Para predecir esto necesitaremos algunos datos del dia (como el marketcap, el volumen y el valor en el que abre el mercado). Pero tambien usaremos valores del dia anterior, como el High y el Low (ya que esto permite incluir dentro del clasificador que tan volatil esta el mercado y en que direccion se estuvo moviendo el dia anterior), el Close y el numero de tweets del dia anterior que lo usaremos como medidor de popularidad. Entonces pasemos a crear 2 datasets, uno que este al dia y el otro desfasado un dia, luego los uniremos entre ellos y con el dataset de tweets para asi tener nuestros datos finales para proceder al clasificador.\n",
        "\n",
        "Por ultimo, cabe mencionar que debido a que solo usaremos el bitcoin, las columnas Name y Symbol serian redundantes y no las usaremos para facilitar el manejo de los datos."
      ]
    },
    {
      "cell_type": "code",
      "execution_count": null,
      "metadata": {
        "id": "PA74HQJ8-62y",
        "outputId": "0aee853e-7357-4253-c6c4-85aac2fa6bb0"
      },
      "outputs": [
        {
          "data": {
            "text/html": [
              "<div>\n",
              "<style scoped>\n",
              "    .dataframe tbody tr th:only-of-type {\n",
              "        vertical-align: middle;\n",
              "    }\n",
              "\n",
              "    .dataframe tbody tr th {\n",
              "        vertical-align: top;\n",
              "    }\n",
              "\n",
              "    .dataframe thead th {\n",
              "        text-align: right;\n",
              "    }\n",
              "</style>\n",
              "<table border=\"1\" class=\"dataframe\">\n",
              "  <thead>\n",
              "    <tr style=\"text-align: right;\">\n",
              "      <th></th>\n",
              "      <th>Subio_ayer</th>\n",
              "      <th>Variation_yesterday</th>\n",
              "      <th>Fecha</th>\n",
              "    </tr>\n",
              "    <tr>\n",
              "      <th>date</th>\n",
              "      <th></th>\n",
              "      <th></th>\n",
              "      <th></th>\n",
              "    </tr>\n",
              "  </thead>\n",
              "  <tbody>\n",
              "    <tr>\n",
              "      <th>2015-12-31</th>\n",
              "      <td>True</td>\n",
              "      <td>14.186005</td>\n",
              "      <td>2016-01-01</td>\n",
              "    </tr>\n",
              "    <tr>\n",
              "      <th>2016-01-01</th>\n",
              "      <td>True</td>\n",
              "      <td>8.730988</td>\n",
              "      <td>2016-01-02</td>\n",
              "    </tr>\n",
              "    <tr>\n",
              "      <th>2016-01-02</th>\n",
              "      <td>False</td>\n",
              "      <td>4.192017</td>\n",
              "      <td>2016-01-03</td>\n",
              "    </tr>\n",
              "    <tr>\n",
              "      <th>2016-01-03</th>\n",
              "      <td>False</td>\n",
              "      <td>9.037018</td>\n",
              "      <td>2016-01-04</td>\n",
              "    </tr>\n",
              "    <tr>\n",
              "      <th>2016-01-04</th>\n",
              "      <td>True</td>\n",
              "      <td>5.432983</td>\n",
              "      <td>2016-01-05</td>\n",
              "    </tr>\n",
              "  </tbody>\n",
              "</table>\n",
              "</div>"
            ],
            "text/plain": [
              "            Subio_ayer  Variation_yesterday       Fecha\n",
              "date                                                   \n",
              "2015-12-31        True            14.186005  2016-01-01\n",
              "2016-01-01        True             8.730988  2016-01-02\n",
              "2016-01-02       False             4.192017  2016-01-03\n",
              "2016-01-03       False             9.037018  2016-01-04\n",
              "2016-01-04        True             5.432983  2016-01-05"
            ]
          },
          "execution_count": 28,
          "metadata": {},
          "output_type": "execute_result"
        }
      ],
      "source": [
        "df = pd.read_csv('/Users/josevera/Desktop/mineria de datos/proyecto/coin_Bitcoin.csv', delimiter=\",\", skiprows=0, lineterminator=\"\\n\" )\n",
        "df.columns = [\"indice\",\"Name\", \"Symbol\", \"Date\", \"High\", \"Low\", \"Open\",\"Close\",\"Volume\",\"Marketcap\"]\n",
        "df['date'] = pd.to_datetime(df['Date'],format= '%Y-%m-%d').dt.date  #creamos la columna date son solo año-mes-dia\n",
        "df = df.sort_values(by='date') #ordenamos por fecha\n",
        "df=df[[\"date\", \"High\", \"Low\", \"Open\",\"Close\",\"Volume\",\"Marketcap\"]] #eliminamos las columnas que no necesitamos\n",
        "df1=df[[\"date\",\"High\",\"Low\", \"Close\", \"Open\"]] #este sera el dataset que estara desfasado un dia\n",
        "df2=df[[\"date\", \"Open\", \"Close\", \"Volume\", \"Marketcap\"]] #este sera el dataset que estara al dia\n",
        "\n",
        "#desfasamos un dia el dataframe1 y lo restringimos a las fechas:\n",
        "\n",
        "df1 = df1.rename(columns={\"Close\":\"Close_yesterday\",\"High\":\"Variation_yesterday\",\"Low\":\"Low_yesterday\", \"Open\": \"Subio_ayer\"})\n",
        "df1['Fecha'] = df1['date'] + pd.Timedelta('1 days') #al sumar un dia, a cada columna de valores queda asignado la fecha del dia siguiente.\n",
        "df1 = df1.sort_values(by='Fecha')   \n",
        "df1 = df1.set_index('date') \n",
        "mask = (df1['Fecha'] > pd.to_datetime(\"2015-12-31\").date()) & (df1['Fecha'] <= pd.to_datetime(\"2019-11-24\").date()) #lo restingimos al periodo de tiempo de los tweets\n",
        "df1 = df1.loc[mask]\n",
        "df1[\"Subio_ayer\"]= df1[\"Subio_ayer\"]<df1[\"Close_yesterday\"]\n",
        "df1[\"Variation_yesterday\"]= df1[\"Variation_yesterday\"]-df1[\"Low_yesterday\"]\n",
        "df1 = df1[[\"Subio_ayer\",\"Variation_yesterday\",\"Fecha\"]]\n",
        "\n",
        "\n",
        "df1.head()"
      ]
    },
    {
      "cell_type": "code",
      "execution_count": null,
      "metadata": {
        "id": "T5r7tq2I-62z",
        "outputId": "ea644adf-afc2-4a8f-d315-d0ad8d695d28"
      },
      "outputs": [
        {
          "name": "stderr",
          "output_type": "stream",
          "text": [
            "/opt/anaconda3/lib/python3.7/site-packages/ipykernel_launcher.py:2: SettingWithCopyWarning: \n",
            "A value is trying to be set on a copy of a slice from a DataFrame.\n",
            "Try using .loc[row_indexer,col_indexer] = value instead\n",
            "\n",
            "See the caveats in the documentation: https://pandas.pydata.org/pandas-docs/stable/user_guide/indexing.html#returning-a-view-versus-a-copy\n",
            "  \n"
          ]
        },
        {
          "data": {
            "text/html": [
              "<div>\n",
              "<style scoped>\n",
              "    .dataframe tbody tr th:only-of-type {\n",
              "        vertical-align: middle;\n",
              "    }\n",
              "\n",
              "    .dataframe tbody tr th {\n",
              "        vertical-align: top;\n",
              "    }\n",
              "\n",
              "    .dataframe thead th {\n",
              "        text-align: right;\n",
              "    }\n",
              "</style>\n",
              "<table border=\"1\" class=\"dataframe\">\n",
              "  <thead>\n",
              "    <tr style=\"text-align: right;\">\n",
              "      <th></th>\n",
              "      <th>Open</th>\n",
              "      <th>Higher_close_value?</th>\n",
              "      <th>Volume</th>\n",
              "      <th>Marketcap</th>\n",
              "      <th>Fecha</th>\n",
              "    </tr>\n",
              "    <tr>\n",
              "      <th>date</th>\n",
              "      <th></th>\n",
              "      <th></th>\n",
              "      <th></th>\n",
              "      <th></th>\n",
              "      <th></th>\n",
              "    </tr>\n",
              "  </thead>\n",
              "  <tbody>\n",
              "    <tr>\n",
              "      <th>2019-11-20</th>\n",
              "      <td>8203.613180</td>\n",
              "      <td>False</td>\n",
              "      <td>2.076430e+10</td>\n",
              "      <td>1.449627e+11</td>\n",
              "      <td>2019-11-20</td>\n",
              "    </tr>\n",
              "    <tr>\n",
              "      <th>2019-11-21</th>\n",
              "      <td>8023.644687</td>\n",
              "      <td>False</td>\n",
              "      <td>2.251424e+10</td>\n",
              "      <td>1.380319e+11</td>\n",
              "      <td>2019-11-21</td>\n",
              "    </tr>\n",
              "    <tr>\n",
              "      <th>2019-11-22</th>\n",
              "      <td>7643.569425</td>\n",
              "      <td>False</td>\n",
              "      <td>3.424232e+10</td>\n",
              "      <td>1.317918e+11</td>\n",
              "      <td>2019-11-22</td>\n",
              "    </tr>\n",
              "    <tr>\n",
              "      <th>2019-11-23</th>\n",
              "      <td>7296.164425</td>\n",
              "      <td>True</td>\n",
              "      <td>2.100892e+10</td>\n",
              "      <td>1.336362e+11</td>\n",
              "      <td>2019-11-23</td>\n",
              "    </tr>\n",
              "    <tr>\n",
              "      <th>2019-11-24</th>\n",
              "      <td>7398.633906</td>\n",
              "      <td>False</td>\n",
              "      <td>3.043352e+10</td>\n",
              "      <td>1.273274e+11</td>\n",
              "      <td>2019-11-24</td>\n",
              "    </tr>\n",
              "  </tbody>\n",
              "</table>\n",
              "</div>"
            ],
            "text/plain": [
              "                   Open  Higher_close_value?        Volume     Marketcap  \\\n",
              "date                                                                       \n",
              "2019-11-20  8203.613180                False  2.076430e+10  1.449627e+11   \n",
              "2019-11-21  8023.644687                False  2.251424e+10  1.380319e+11   \n",
              "2019-11-22  7643.569425                False  3.424232e+10  1.317918e+11   \n",
              "2019-11-23  7296.164425                 True  2.100892e+10  1.336362e+11   \n",
              "2019-11-24  7398.633906                False  3.043352e+10  1.273274e+11   \n",
              "\n",
              "                 Fecha  \n",
              "date                    \n",
              "2019-11-20  2019-11-20  \n",
              "2019-11-21  2019-11-21  \n",
              "2019-11-22  2019-11-22  \n",
              "2019-11-23  2019-11-23  \n",
              "2019-11-24  2019-11-24  "
            ]
          },
          "execution_count": 29,
          "metadata": {},
          "output_type": "execute_result"
        }
      ],
      "source": [
        "#Ahora vamos con el otro dataset, solo debemos restringirlo al periodo de fechas con las que trabajaremos\n",
        "df2['Fecha'] = df2['date']\n",
        "df2 = df2.sort_values(by='Fecha')   \n",
        "df2 = df2.set_index('date') \n",
        "mask = (df2['Fecha'] > pd.to_datetime(\"2015-12-31\").date()) & (df2['Fecha'] <= pd.to_datetime(\"2019-11-24\").date()) #lo restingimos al periodo de tiempo de los tweets\n",
        "df2 = df2.loc[mask]\n",
        "\n",
        "#Pasamos ahora a crear la columna que queremos predecir, que seria el booleano si el close del dia sera mayor que el open:\n",
        "\n",
        "df2= df2.rename(columns={\"Close\":\"Higher_close_value?\"})\n",
        "df2[\"Higher_close_value?\"]= df2[\"Open\"]<df2[\"Higher_close_value?\"]\n",
        "\n",
        "df2.tail()"
      ]
    },
    {
      "cell_type": "markdown",
      "metadata": {
        "id": "buwL7ZeL-621"
      },
      "source": [
        "Ahora teniendo todos los dataset listos, podemos pasar a unirlos usando los valores de la columna Fecha que es la que tienen en comun todas las tablas. Para esto usaremos la funcion merge entre la df1 y df2, y luego con result para obtener nuestro dataset final."
      ]
    },
    {
      "cell_type": "code",
      "execution_count": null,
      "metadata": {
        "id": "REWMntKS-622",
        "outputId": "07ed8c6c-36f6-4eb7-a15c-c7ce94d7f585"
      },
      "outputs": [
        {
          "data": {
            "text/html": [
              "<div>\n",
              "<style scoped>\n",
              "    .dataframe tbody tr th:only-of-type {\n",
              "        vertical-align: middle;\n",
              "    }\n",
              "\n",
              "    .dataframe tbody tr th {\n",
              "        vertical-align: top;\n",
              "    }\n",
              "\n",
              "    .dataframe thead th {\n",
              "        text-align: right;\n",
              "    }\n",
              "</style>\n",
              "<table border=\"1\" class=\"dataframe\">\n",
              "  <thead>\n",
              "    <tr style=\"text-align: right;\">\n",
              "      <th></th>\n",
              "      <th>Subio_ayer</th>\n",
              "      <th>Variation_yesterday</th>\n",
              "      <th>Fecha</th>\n",
              "      <th>Open</th>\n",
              "      <th>Higher_close_value?</th>\n",
              "      <th>Volume</th>\n",
              "      <th>Marketcap</th>\n",
              "      <th>Tweets_yesterday</th>\n",
              "    </tr>\n",
              "  </thead>\n",
              "  <tbody>\n",
              "    <tr>\n",
              "      <th>0</th>\n",
              "      <td>True</td>\n",
              "      <td>14.186005</td>\n",
              "      <td>2016-01-01</td>\n",
              "      <td>430.721008</td>\n",
              "      <td>True</td>\n",
              "      <td>36278900.0</td>\n",
              "      <td>6.529300e+09</td>\n",
              "      <td>579.0</td>\n",
              "    </tr>\n",
              "    <tr>\n",
              "      <th>1</th>\n",
              "      <td>True</td>\n",
              "      <td>8.730988</td>\n",
              "      <td>2016-01-02</td>\n",
              "      <td>434.622009</td>\n",
              "      <td>False</td>\n",
              "      <td>30096600.0</td>\n",
              "      <td>6.517390e+09</td>\n",
              "      <td>700.0</td>\n",
              "    </tr>\n",
              "    <tr>\n",
              "      <th>2</th>\n",
              "      <td>False</td>\n",
              "      <td>4.192017</td>\n",
              "      <td>2016-01-03</td>\n",
              "      <td>433.578003</td>\n",
              "      <td>False</td>\n",
              "      <td>39633800.0</td>\n",
              "      <td>6.467430e+09</td>\n",
              "      <td>657.0</td>\n",
              "    </tr>\n",
              "    <tr>\n",
              "      <th>3</th>\n",
              "      <td>False</td>\n",
              "      <td>9.037018</td>\n",
              "      <td>2016-01-04</td>\n",
              "      <td>430.061005</td>\n",
              "      <td>True</td>\n",
              "      <td>38477500.0</td>\n",
              "      <td>6.515713e+09</td>\n",
              "      <td>474.0</td>\n",
              "    </tr>\n",
              "    <tr>\n",
              "      <th>4</th>\n",
              "      <td>True</td>\n",
              "      <td>5.432983</td>\n",
              "      <td>2016-01-05</td>\n",
              "      <td>433.069000</td>\n",
              "      <td>False</td>\n",
              "      <td>34522600.0</td>\n",
              "      <td>6.500393e+09</td>\n",
              "      <td>525.0</td>\n",
              "    </tr>\n",
              "  </tbody>\n",
              "</table>\n",
              "</div>"
            ],
            "text/plain": [
              "   Subio_ayer  Variation_yesterday       Fecha        Open  \\\n",
              "0        True            14.186005  2016-01-01  430.721008   \n",
              "1        True             8.730988  2016-01-02  434.622009   \n",
              "2       False             4.192017  2016-01-03  433.578003   \n",
              "3       False             9.037018  2016-01-04  430.061005   \n",
              "4        True             5.432983  2016-01-05  433.069000   \n",
              "\n",
              "   Higher_close_value?      Volume     Marketcap  Tweets_yesterday  \n",
              "0                 True  36278900.0  6.529300e+09             579.0  \n",
              "1                False  30096600.0  6.517390e+09             700.0  \n",
              "2                False  39633800.0  6.467430e+09             657.0  \n",
              "3                 True  38477500.0  6.515713e+09             474.0  \n",
              "4                False  34522600.0  6.500393e+09             525.0  "
            ]
          },
          "execution_count": 30,
          "metadata": {},
          "output_type": "execute_result"
        }
      ],
      "source": [
        "merged_bitcoin = pd.merge(left=df1,right=df2, left_on='Fecha', right_on='Fecha')\n",
        "final_result = pd.merge(left=merged_bitcoin,right=result, left_on='Fecha', right_on='Fecha')\n",
        "final_result.head()"
      ]
    },
    {
      "cell_type": "markdown",
      "metadata": {
        "id": "YdCKwxxG-622"
      },
      "source": [
        "Teniendo ya esto, podemos entonces pasar a la seccion del clasificador.\n",
        "\n",
        "Para el clasificador, usaremos varios metodos y luego analizaremos sus resultados para determinar cual seria el mejor en este caso.\n",
        "\n",
        "Empezamos por un clasificador de arbol de decision:\n"
      ]
    },
    {
      "cell_type": "code",
      "execution_count": null,
      "metadata": {
        "id": "nJWhvK57-623",
        "outputId": "103e2243-1b9e-489a-8e74-a12321b1065c"
      },
      "outputs": [
        {
          "name": "stdout",
          "output_type": "stream",
          "text": [
            "Accuracy: 0.6404255319148936\n",
            "              precision    recall  f1-score   support\n",
            "\n",
            "       False       0.59      0.61      0.60       209\n",
            "        True       0.68      0.67      0.67       261\n",
            "\n",
            "    accuracy                           0.64       470\n",
            "   macro avg       0.64      0.64      0.64       470\n",
            "weighted avg       0.64      0.64      0.64       470\n",
            "\n"
          ]
        }
      ],
      "source": [
        "from sklearn.dummy import DummyClassifier\n",
        "from sklearn.tree import DecisionTreeClassifier\n",
        "from sklearn.naive_bayes import GaussianNB  # naive bayes\n",
        "from sklearn.neighbors import KNeighborsClassifier\n",
        "from sklearn.svm import SVC  # support vector machine classifier\n",
        "from sklearn.metrics import accuracy_score\n",
        "from sklearn.metrics import classification_report\n",
        "from sklearn.model_selection import train_test_split\n",
        "from sklearn.metrics import f1_score, recall_score, precision_score\n",
        "\n",
        "\n",
        "Btc= final_result\n",
        "\n",
        "clf = DecisionTreeClassifier()\n",
        "\n",
        "X = Btc[[\"Subio_ayer\",\"Variation_yesterday\",\"Open\",\"Volume\",\"Marketcap\",\"Tweets_yesterday\"]]     ## datos, caracteristicas o features \n",
        "y = Btc[\"Higher_close_value?\"]    ## clase para cada instancia anterior\n",
        "\n",
        "X_train, X_test, y_train, y_test = train_test_split(X, y, test_size=.33, random_state=37,\n",
        "                                                    stratify=y)\n",
        "\n",
        "#Primero fiteamos el clasificador\n",
        "clf.fit(X_train,y_train)\n",
        "#Predecimos\n",
        "y_predict=clf.predict(X_test)\n",
        "#Creamos el reporte\n",
        "print(\"Accuracy:\", accuracy_score(y_test, y_predict))\n",
        "print(classification_report(y_test,y_predict))\n"
      ]
    },
    {
      "cell_type": "markdown",
      "metadata": {
        "id": "9CBUj8Sw-624"
      },
      "source": [
        "Ya vemos que tenemos nuestro primer clasificador, podemos proceder a probar los demas clasificadores y compararlos para determinar si alguno seria valido para nuestro objetivo.\n"
      ]
    },
    {
      "cell_type": "code",
      "execution_count": null,
      "metadata": {
        "id": "L8Z55nq4-625",
        "outputId": "cae23f16-ad5c-4df7-ce61-0e56c20b7765"
      },
      "outputs": [
        {
          "name": "stdout",
          "output_type": "stream",
          "text": [
            "----------------\n",
            "Resultados para clasificador:  Base Dummy\n",
            "Precision promedio: 0.5573387409723601\n",
            "Recall promedio: 0.5583193277310923\n",
            "F1-score promedio: 0.5576250043823202\n",
            "----------------\n",
            "\n",
            "\n",
            "----------------\n",
            "Resultados para clasificador:  Decision Tree\n",
            "Precision promedio: 0.5731109303423709\n",
            "Recall promedio: 0.8253781512605042\n",
            "F1-score promedio: 0.6764906589716324\n",
            "----------------\n",
            "\n",
            "\n",
            "----------------\n",
            "Resultados para clasificador:  Gaussian Naive Bayes\n",
            "Precision promedio: 0.5502645502645503\n",
            "Recall promedio: 0.8739495798319329\n",
            "F1-score promedio: 0.6753246753246752\n",
            "----------------\n",
            "\n",
            "\n",
            "----------------\n",
            "Resultados para clasificador:  KNN\n",
            "Precision promedio: 0.5739130434782611\n",
            "Recall promedio: 0.5546218487394956\n",
            "F1-score promedio: 0.564102564102564\n",
            "----------------\n",
            "\n",
            "\n",
            "----------------\n",
            "Resultados para clasificador:  Support Vector Machines\n",
            "Precision promedio: 0.55607476635514\n",
            "Recall promedio: 1.0\n",
            "F1-score promedio: 0.7147147147147147\n",
            "----------------\n",
            "\n",
            "\n"
          ]
        }
      ],
      "source": [
        "def run_classifier(clf, X, y, num_tests=100):\n",
        "    metrics = {'f1-score': [], 'precision': [], 'recall': []}\n",
        "    \n",
        "    for _ in range(num_tests):\n",
        "        X_train, X_test, y_train, y_test = train_test_split(X, y, test_size=.3, random_state=37,\n",
        "                                                    stratify=y)\n",
        "        clf.fit(X_train,y_train)\n",
        "        predictions=clf.predict(X_test)\n",
        "        metrics['y_pred'] = predictions\n",
        "        metrics['f1-score'].append(f1_score(y_test, predictions)) \n",
        "        metrics['recall'].append(recall_score(y_test, predictions))\n",
        "        metrics['precision'].append(precision_score(y_test, predictions))\n",
        "    \n",
        "    return metrics\n",
        "\n",
        "c0 = (\"Base Dummy\", DummyClassifier(strategy='stratified'))\n",
        "c1 = (\"Decision Tree\", DecisionTreeClassifier(max_depth=5))\n",
        "c2 = (\"Gaussian Naive Bayes\", GaussianNB())\n",
        "c3 = (\"KNN\", KNeighborsClassifier(n_neighbors=10))\n",
        "c4 = (\"Support Vector Machines\", SVC())\n",
        "\n",
        "classifiers = [c0, c1, c2, c3, c4]\n",
        "\n",
        "results = {}\n",
        "for name, clf in classifiers:\n",
        "    metrics = run_classifier(clf, X, y)   # hay que implementarla en el bloque anterior.\n",
        "    results[name] = metrics\n",
        "    print(\"----------------\")\n",
        "    print(\"Resultados para clasificador: \", name) \n",
        "    print(\"Precision promedio:\", np.array(metrics['precision']).mean())\n",
        "    print(\"Recall promedio:\", np.array(metrics['recall']).mean())\n",
        "    print(\"F1-score promedio:\", np.array(metrics['f1-score']).mean())\n",
        "    print(\"----------------\\n\\n\")  "
      ]
    },
    {
      "cell_type": "markdown",
      "metadata": {
        "id": "euqgTtu1AcKd"
      },
      "source": [
        "# MAS QUE UN SENTIMIENTO UNA EMOCION; COLO COLO LO MAS GRANDE P1"
      ]
    },
    {
      "cell_type": "code",
      "execution_count": null,
      "metadata": {
        "colab": {
          "base_uri": "https://localhost:8080/"
        },
        "id": "Vru_YwM9dExW",
        "outputId": "ac37782b-4ffb-4bec-df43-219a4318f45f"
      },
      "outputs": [
        {
          "output_type": "stream",
          "name": "stdout",
          "text": [
            "Downloading...\n",
            "From: https://drive.google.com/uc?id=1NTntqn7s7Nmvjvr9X69Go-EIE5Jp3c-U\n",
            "To: /content/x00\n",
            "100% 599M/599M [00:05<00:00, 116MB/s]\n"
          ]
        }
      ],
      "source": [
        "!gdown --id 1NTntqn7s7Nmvjvr9X69Go-EIE5Jp3c-U"
      ]
    },
    {
      "cell_type": "code",
      "execution_count": null,
      "metadata": {
        "colab": {
          "base_uri": "https://localhost:8080/"
        },
        "id": "Ue0SiZ9B-625",
        "outputId": "c0a4f690-d8a9-4eb9-d642-a50cf0059e2f"
      },
      "outputs": [
        {
          "output_type": "stream",
          "name": "stdout",
          "text": [
            "[nltk_data] Downloading package stopwords to /root/nltk_data...\n",
            "[nltk_data]   Unzipping corpora/stopwords.zip.\n",
            "[nltk_data] Downloading package punkt to /root/nltk_data...\n",
            "[nltk_data]   Unzipping tokenizers/punkt.zip.\n",
            "Collecting langdetect\n",
            "  Downloading langdetect-1.0.9.tar.gz (981 kB)\n",
            "\u001b[K     |████████████████████████████████| 981 kB 10.1 MB/s \n",
            "\u001b[?25hRequirement already satisfied: six in /usr/local/lib/python3.7/dist-packages (from langdetect) (1.15.0)\n",
            "Building wheels for collected packages: langdetect\n",
            "  Building wheel for langdetect (setup.py) ... \u001b[?25l\u001b[?25hdone\n",
            "  Created wheel for langdetect: filename=langdetect-1.0.9-py3-none-any.whl size=993242 sha256=315086b6fff9af1081d415950580c615fcab28d6b5c4b2f47c8ef74f19daf6a9\n",
            "  Stored in directory: /root/.cache/pip/wheels/c5/96/8a/f90c59ed25d75e50a8c10a1b1c2d4c402e4dacfa87f3aff36a\n",
            "Successfully built langdetect\n",
            "Installing collected packages: langdetect\n",
            "Successfully installed langdetect-1.0.9\n",
            "Collecting pycld3\n",
            "  Downloading pycld3-0.22-cp37-cp37m-manylinux1_x86_64.whl (13.6 MB)\n",
            "\u001b[K     |████████████████████████████████| 13.6 MB 6.3 MB/s \n",
            "\u001b[?25hInstalling collected packages: pycld3\n",
            "Successfully installed pycld3-0.22\n"
          ]
        }
      ],
      "source": [
        "from sklearn.feature_extraction.text import TfidfVectorizer\n",
        "import nltk\n",
        "nltk.download('stopwords')\n",
        "nltk.download('punkt')\n",
        "from nltk.corpus import stopwords\n",
        "from nltk.tokenize import word_tokenize\n",
        "import pandas as pd\n",
        "# Configuración warnings\n",
        "# ==============================================================================\n",
        "import warnings\n",
        "warnings.filterwarnings('ignore')\n",
        "# Langdetect\n",
        "# ==============================================================================\n",
        "!pip install langdetect\n",
        "import langdetect\n",
        "# pycld2\n",
        "# ==============================================================================\n",
        "# pycld3\n",
        "# ==============================================================================\n",
        "!pip install -U pycld3\n",
        "import cld3\n",
        "import re\n"
      ]
    },
    {
      "cell_type": "code",
      "execution_count": null,
      "metadata": {
        "id": "02GzCnI3BMwt"
      },
      "outputs": [],
      "source": [
        "#Tweets\n",
        "df_tweets = pd.read_csv('/content/x00', delimiter=\";\", skiprows=0, lineterminator=\"\\n\" )\n"
      ]
    },
    {
      "cell_type": "code",
      "execution_count": null,
      "metadata": {
        "id": "19gA9cQKBl_c"
      },
      "outputs": [],
      "source": [
        "\n",
        "\n",
        "df_tweets.columns = [\"id\", \"user\", \"fullname\", \"url\", \"timestamp\", \"replies\",\"likes\",\"retweets\",\"text\"] #le pongo el nombre a las columnas\n",
        "\n",
        "#Borramos ultima fila por tema del corte de la wa, para el dataset entero eliminar la siguiente fila\n",
        "df_tweets.drop(df_tweets.tail(1).index,inplace=True) # drop last n rows\n",
        "\n",
        "df_tweets_text = df_tweets[['id','text','likes','timestamp']] #extraemos solo las que nos importan\n",
        "df_tweets_text ['date'] = pd.to_datetime(df_tweets_text ['timestamp'],format= '%Y-%m-%d').dt.date  #creamos la columna date son solo año-mes-dia\n",
        "df_tweets_text =df_tweets_text[['id','text','likes','date']]\n",
        "\n"
      ]
    },
    {
      "cell_type": "code",
      "execution_count": null,
      "metadata": {
        "colab": {
          "base_uri": "https://localhost:8080/",
          "height": 424
        },
        "id": "x4xx1k7z7Ubq",
        "outputId": "e11c3c7c-79a2-4a3c-fce4-a8cfef4f73f0"
      },
      "outputs": [
        {
          "data": {
            "text/html": [
              "<div>\n",
              "<style scoped>\n",
              "    .dataframe tbody tr th:only-of-type {\n",
              "        vertical-align: middle;\n",
              "    }\n",
              "\n",
              "    .dataframe tbody tr th {\n",
              "        vertical-align: top;\n",
              "    }\n",
              "\n",
              "    .dataframe thead th {\n",
              "        text-align: right;\n",
              "    }\n",
              "</style>\n",
              "<table border=\"1\" class=\"dataframe\">\n",
              "  <thead>\n",
              "    <tr style=\"text-align: right;\">\n",
              "      <th></th>\n",
              "      <th>id</th>\n",
              "      <th>text</th>\n",
              "      <th>likes</th>\n",
              "      <th>date</th>\n",
              "    </tr>\n",
              "  </thead>\n",
              "  <tbody>\n",
              "    <tr>\n",
              "      <th>0</th>\n",
              "      <td>1132977055300300800</td>\n",
              "      <td>È appena uscito un nuovo video! LES CRYPTOMONN...</td>\n",
              "      <td>0.0</td>\n",
              "      <td>2019-05-27</td>\n",
              "    </tr>\n",
              "    <tr>\n",
              "      <th>1</th>\n",
              "      <td>1132977073402736640</td>\n",
              "      <td>Cardano: Digitize Currencies; EOS https://t.co...</td>\n",
              "      <td>0.0</td>\n",
              "      <td>2019-05-27</td>\n",
              "    </tr>\n",
              "    <tr>\n",
              "      <th>2</th>\n",
              "      <td>1132977023893139456</td>\n",
              "      <td>Another Test tweet that wasn't caught in the s...</td>\n",
              "      <td>2.0</td>\n",
              "      <td>2019-05-27</td>\n",
              "    </tr>\n",
              "    <tr>\n",
              "      <th>3</th>\n",
              "      <td>1132977089089556481</td>\n",
              "      <td>Current Crypto Prices! \\n\\nBTC: $8721.99 USD\\n...</td>\n",
              "      <td>0.0</td>\n",
              "      <td>2019-05-27</td>\n",
              "    </tr>\n",
              "    <tr>\n",
              "      <th>4</th>\n",
              "      <td>1132977092340191232</td>\n",
              "      <td>Spiv (Nosar Baz): BITCOIN Is An Asset &amp;amp; NO...</td>\n",
              "      <td>0.0</td>\n",
              "      <td>2019-05-27</td>\n",
              "    </tr>\n",
              "    <tr>\n",
              "      <th>...</th>\n",
              "      <td>...</td>\n",
              "      <td>...</td>\n",
              "      <td>...</td>\n",
              "      <td>...</td>\n",
              "    </tr>\n",
              "    <tr>\n",
              "      <th>2508634</th>\n",
              "      <td>991980692148977666</td>\n",
              "      <td>03/05/2018 - 13:00\\n=========================...</td>\n",
              "      <td>0.0</td>\n",
              "      <td>2018-05-03</td>\n",
              "    </tr>\n",
              "    <tr>\n",
              "      <th>2508635</th>\n",
              "      <td>991980690290823168</td>\n",
              "      <td>Bitcoin - BTC\\nPrice: $9,195.21\\nChange in 1h:...</td>\n",
              "      <td>0.0</td>\n",
              "      <td>2018-05-03</td>\n",
              "    </tr>\n",
              "    <tr>\n",
              "      <th>2508636</th>\n",
              "      <td>994759368955650048</td>\n",
              "      <td>Current price of Bitcoin is $8920.00\\r</td>\n",
              "      <td>0.0</td>\n",
              "      <td>2018-05-11</td>\n",
              "    </tr>\n",
              "    <tr>\n",
              "      <th>2508637</th>\n",
              "      <td>991980499026563073</td>\n",
              "      <td>#BTC Average: 9214.79$\\n\\n#Bitfinex - 9212.10$...</td>\n",
              "      <td>0.0</td>\n",
              "      <td>2018-05-03</td>\n",
              "    </tr>\n",
              "    <tr>\n",
              "      <th>2508638</th>\n",
              "      <td>991980188840820736</td>\n",
              "      <td>ツイート数の多かった仮想通貨\\n1位 $BTC 562 Tweets\\n2位 $TRX 47...</td>\n",
              "      <td>1.0</td>\n",
              "      <td>2018-05-03</td>\n",
              "    </tr>\n",
              "  </tbody>\n",
              "</table>\n",
              "<p>2508639 rows × 4 columns</p>\n",
              "</div>"
            ],
            "text/plain": [
              "                          id  ...        date\n",
              "0        1132977055300300800  ...  2019-05-27\n",
              "1        1132977073402736640  ...  2019-05-27\n",
              "2        1132977023893139456  ...  2019-05-27\n",
              "3        1132977089089556481  ...  2019-05-27\n",
              "4        1132977092340191232  ...  2019-05-27\n",
              "...                      ...  ...         ...\n",
              "2508634   991980692148977666  ...  2018-05-03\n",
              "2508635   991980690290823168  ...  2018-05-03\n",
              "2508636   994759368955650048  ...  2018-05-11\n",
              "2508637   991980499026563073  ...  2018-05-03\n",
              "2508638   991980188840820736  ...  2018-05-03\n",
              "\n",
              "[2508639 rows x 4 columns]"
            ]
          },
          "execution_count": 30,
          "metadata": {},
          "output_type": "execute_result"
        }
      ],
      "source": [
        "#caso provisorio para trabajar rapido con un pequeño conjunto de tweets\n",
        "df_tweets_text#=df_tweets_text.iloc[0:100]"
      ]
    },
    {
      "cell_type": "code",
      "execution_count": null,
      "metadata": {
        "id": "mDB6RJKD22dn"
      },
      "outputs": [],
      "source": [
        "#Filtrar en inglish plis\n",
        "largo=df_tweets_text.shape[0]\n",
        "df_en=pd.DataFrame()\n",
        "delete=[]\n",
        "for x in range(largo):\n",
        "  if cld3.get_language(df_tweets_text.loc[x]['text'])[0]=='en':\n",
        "    continue\n",
        "  else:\n",
        "    delete+=[x]\n",
        "df_tweets_text=df_tweets_text.drop(delete,axis=0)"
      ]
    },
    {
      "cell_type": "code",
      "source": [
        "df_tweets_text"
      ],
      "metadata": {
        "id": "6HZQ6MA1kYAu"
      },
      "execution_count": null,
      "outputs": []
    },
    {
      "cell_type": "code",
      "execution_count": null,
      "metadata": {
        "id": "ia7PQKgN4bdV"
      },
      "outputs": [],
      "source": [
        "import re\n",
        "def limpiar_tokenizar(texto):\n",
        "    '''\n",
        "    Esta función limpia y tokeniza el texto en palabras individuales.\n",
        "    El orden en el que se va limpiando el texto no es arbitrario.\n",
        "    El listado de signos de puntuación se ha obtenido de: print(string.punctuation)\n",
        "    y re.escape(string.punctuation)\n",
        "    '''\n",
        "    \n",
        "    # Se convierte todo el texto a minúsculas\n",
        "    nuevo_texto = texto.lower()\n",
        "    # Eliminación de páginas web (palabras que empiezan por \"http\")\n",
        "    nuevo_texto = re.sub('http\\S+', ' ', nuevo_texto)\n",
        "    # Eliminación de signos de puntuación\n",
        "    regex = '[\\\\!\\\\\"\\\\#\\\\$\\\\%\\\\&\\\\\\'\\\\(\\\\)\\\\*\\\\+\\\\,\\\\-\\\\.\\\\/\\\\:\\\\;\\\\<\\\\=\\\\>\\\\?\\\\@\\\\[\\\\\\\\\\\\]\\\\^_\\\\`\\\\{\\\\|\\\\}\\\\~]'\n",
        "    nuevo_texto = re.sub(regex , ' ', nuevo_texto)\n",
        "    # Eliminación de números\n",
        "    nuevo_texto = re.sub(\"\\d+\", ' ', nuevo_texto)\n",
        "    # Eliminación de espacios en blanco múltiples\n",
        "    nuevo_texto = re.sub(\"\\\\s+\", ' ', nuevo_texto)\n",
        "    # Tokenización por palabras individuales\n",
        "    nuevo_texto = nuevo_texto.split(sep = ' ')\n",
        "    # Eliminación de tokens con una longitud < 2\n",
        "    nuevo_texto = [token for token in nuevo_texto if len(token) > 1]\n",
        "    \n",
        "    return(nuevo_texto)"
      ]
    },
    {
      "cell_type": "code",
      "execution_count": null,
      "metadata": {
        "colab": {
          "base_uri": "https://localhost:8080/",
          "height": 206
        },
        "id": "CXDLkDswEyJ_",
        "outputId": "3df34c31-4238-4222-bc53-b141ff724067"
      },
      "outputs": [
        {
          "data": {
            "text/html": [
              "<div>\n",
              "<style scoped>\n",
              "    .dataframe tbody tr th:only-of-type {\n",
              "        vertical-align: middle;\n",
              "    }\n",
              "\n",
              "    .dataframe tbody tr th {\n",
              "        vertical-align: top;\n",
              "    }\n",
              "\n",
              "    .dataframe thead th {\n",
              "        text-align: right;\n",
              "    }\n",
              "</style>\n",
              "<table border=\"1\" class=\"dataframe\">\n",
              "  <thead>\n",
              "    <tr style=\"text-align: right;\">\n",
              "      <th></th>\n",
              "      <th>text</th>\n",
              "      <th>tokens</th>\n",
              "    </tr>\n",
              "  </thead>\n",
              "  <tbody>\n",
              "    <tr>\n",
              "      <th>2</th>\n",
              "      <td>Another Test tweet that wasn't caught in the s...</td>\n",
              "      <td>[another, test, tweet, that, wasn, caught, in,...</td>\n",
              "    </tr>\n",
              "    <tr>\n",
              "      <th>6</th>\n",
              "      <td>@nwoodfine We have been building on the real #...</td>\n",
              "      <td>[nwoodfine, we, have, been, building, on, the,...</td>\n",
              "    </tr>\n",
              "    <tr>\n",
              "      <th>9</th>\n",
              "      <td>CHANGE IS COMING...GET READY!!! Boom, Another ...</td>\n",
              "      <td>[change, is, coming, get, ready, boom, another...</td>\n",
              "    </tr>\n",
              "    <tr>\n",
              "      <th>10</th>\n",
              "      <td>One of the useful articles of Stefan; here is ...</td>\n",
              "      <td>[one, of, the, useful, articles, of, stefan, h...</td>\n",
              "    </tr>\n",
              "    <tr>\n",
              "      <th>11</th>\n",
              "      <td>BTC IS STILL GOING STRONG!!\\n\\nThus, we are gi...</td>\n",
              "      <td>[btc, is, still, going, strong, thus, we, are,...</td>\n",
              "    </tr>\n",
              "  </tbody>\n",
              "</table>\n",
              "</div>"
            ],
            "text/plain": [
              "                                                 text                                             tokens\n",
              "2   Another Test tweet that wasn't caught in the s...  [another, test, tweet, that, wasn, caught, in,...\n",
              "6   @nwoodfine We have been building on the real #...  [nwoodfine, we, have, been, building, on, the,...\n",
              "9   CHANGE IS COMING...GET READY!!! Boom, Another ...  [change, is, coming, get, ready, boom, another...\n",
              "10  One of the useful articles of Stefan; here is ...  [one, of, the, useful, articles, of, stefan, h...\n",
              "11  BTC IS STILL GOING STRONG!!\\n\\nThus, we are gi...  [btc, is, still, going, strong, thus, we, are,..."
            ]
          },
          "execution_count": 33,
          "metadata": {},
          "output_type": "execute_result"
        }
      ],
      "source": [
        "#Limpieza y tokenizacion de texto tokenizacion\n",
        "df_tweets_text['tokens'] = df_tweets_text['text'].apply(lambda x: limpiar_tokenizar(x))\n",
        "df_tweets_text[['text', 'tokens']].head()\n"
      ]
    },
    {
      "cell_type": "code",
      "execution_count": null,
      "metadata": {
        "id": "tSedqjypCpX3"
      },
      "outputs": [],
      "source": [
        "#Filtrado para excluir stopwords\n",
        "stop_words=list(stopwords.words('english'))\n",
        "\n",
        "#Analisis de sentimiento, Se trabaja con diccionarios sentiment lexicon\n",
        "sens= pd.read_table('https://raw.githubusercontent.com/fnielsen/afinn/master/afinn/data/AFINN-en-165.txt',names = ['termino', 'sentimiento'])\n",
        "sent_dic = sens.set_index('termino').T.to_dict('list')\n",
        "\n",
        "total=[]\n",
        "for u in range(len(df_tweets_text)):\n",
        "  priori=0\n",
        "  l=df_tweets_text['tokens'].iloc[u]\n",
        "  for j in l:\n",
        "    if j in stop_words:\n",
        "      l.remove(j)\n",
        "    if j in sent_dic:\n",
        "      priori+=sent_dic[j][0]\n",
        "  total+=[priori]\n",
        "df_sent=pd.DataFrame(total,columns=[\"Sentimiento\"])\n"
      ]
    },
    {
      "cell_type": "code",
      "execution_count": null,
      "metadata": {
        "colab": {
          "base_uri": "https://localhost:8080/",
          "height": 424
        },
        "id": "XNM3rbGRsXqm",
        "outputId": "60f6a512-f392-4723-a5a2-7c3605dde7b5"
      },
      "outputs": [
        {
          "data": {
            "text/html": [
              "<div>\n",
              "<style scoped>\n",
              "    .dataframe tbody tr th:only-of-type {\n",
              "        vertical-align: middle;\n",
              "    }\n",
              "\n",
              "    .dataframe tbody tr th {\n",
              "        vertical-align: top;\n",
              "    }\n",
              "\n",
              "    .dataframe thead th {\n",
              "        text-align: right;\n",
              "    }\n",
              "</style>\n",
              "<table border=\"1\" class=\"dataframe\">\n",
              "  <thead>\n",
              "    <tr style=\"text-align: right;\">\n",
              "      <th></th>\n",
              "      <th>id</th>\n",
              "      <th>text</th>\n",
              "      <th>likes</th>\n",
              "      <th>date</th>\n",
              "      <th>tokens</th>\n",
              "      <th>Sentimiento</th>\n",
              "    </tr>\n",
              "  </thead>\n",
              "  <tbody>\n",
              "    <tr>\n",
              "      <th>0</th>\n",
              "      <td>1132977023893139456</td>\n",
              "      <td>Another Test tweet that wasn't caught in the s...</td>\n",
              "      <td>2.0</td>\n",
              "      <td>2019-05-27</td>\n",
              "      <td>[another, test, tweet, wasn, caught, the, stre...</td>\n",
              "      <td>0</td>\n",
              "    </tr>\n",
              "    <tr>\n",
              "      <th>1</th>\n",
              "      <td>1132977101638897665</td>\n",
              "      <td>@nwoodfine We have been building on the real #...</td>\n",
              "      <td>0.0</td>\n",
              "      <td>2019-05-27</td>\n",
              "      <td>[nwoodfine, have, building, the, real, bitcoin...</td>\n",
              "      <td>0</td>\n",
              "    </tr>\n",
              "    <tr>\n",
              "      <th>2</th>\n",
              "      <td>1132977132714561536</td>\n",
              "      <td>CHANGE IS COMING...GET READY!!! Boom, Another ...</td>\n",
              "      <td>0.0</td>\n",
              "      <td>2019-05-27</td>\n",
              "      <td>[change, coming, get, ready, boom, another, cb...</td>\n",
              "      <td>0</td>\n",
              "    </tr>\n",
              "    <tr>\n",
              "      <th>3</th>\n",
              "      <td>1132977076921933825</td>\n",
              "      <td>One of the useful articles of Stefan; here is ...</td>\n",
              "      <td>14.0</td>\n",
              "      <td>2019-05-27</td>\n",
              "      <td>[one, useful, articles, stefan, is, the, guide...</td>\n",
              "      <td>2</td>\n",
              "    </tr>\n",
              "    <tr>\n",
              "      <th>4</th>\n",
              "      <td>1130878355375501313</td>\n",
              "      <td>BTC IS STILL GOING STRONG!!\\n\\nThus, we are gi...</td>\n",
              "      <td>81.0</td>\n",
              "      <td>2019-05-21</td>\n",
              "      <td>[btc, still, going, strong, thus, are, giving,...</td>\n",
              "      <td>2</td>\n",
              "    </tr>\n",
              "    <tr>\n",
              "      <th>...</th>\n",
              "      <td>...</td>\n",
              "      <td>...</td>\n",
              "      <td>...</td>\n",
              "      <td>...</td>\n",
              "      <td>...</td>\n",
              "      <td>...</td>\n",
              "    </tr>\n",
              "    <tr>\n",
              "      <th>1211633</th>\n",
              "      <td>991981234808066048</td>\n",
              "      <td>Current price of #Bitcoin is $9180.00 via Chai...</td>\n",
              "      <td>1.0</td>\n",
              "      <td>2018-05-03</td>\n",
              "      <td>[current, price, bitcoin, via, chain, btcusd, ...</td>\n",
              "      <td>0</td>\n",
              "    </tr>\n",
              "    <tr>\n",
              "      <th>1211634</th>\n",
              "      <td>991980956700626944</td>\n",
              "      <td>T Shirt - Bitcoin The Future Will Be Blockchai...</td>\n",
              "      <td>0.0</td>\n",
              "      <td>2018-05-03</td>\n",
              "      <td>[shirt, bitcoin, future, be, blockchained, cry...</td>\n",
              "      <td>0</td>\n",
              "    </tr>\n",
              "    <tr>\n",
              "      <th>1211635</th>\n",
              "      <td>991980920294043650</td>\n",
              "      <td>The current price of 1 $BTC on May 3, 2018 at ...</td>\n",
              "      <td>0.0</td>\n",
              "      <td>2018-05-03</td>\n",
              "      <td>[current, price, btc, may, am]</td>\n",
              "      <td>0</td>\n",
              "    </tr>\n",
              "    <tr>\n",
              "      <th>1211636</th>\n",
              "      <td>991980694036451328</td>\n",
              "      <td>Current BTC Price: $ 9,180.00. The 24H Change ...</td>\n",
              "      <td>0.0</td>\n",
              "      <td>2018-05-03</td>\n",
              "      <td>[current, btc, price, change, volume, and, cur...</td>\n",
              "      <td>0</td>\n",
              "    </tr>\n",
              "    <tr>\n",
              "      <th>1211637</th>\n",
              "      <td>994759368955650048</td>\n",
              "      <td>Current price of Bitcoin is $8920.00\\r</td>\n",
              "      <td>0.0</td>\n",
              "      <td>2018-05-11</td>\n",
              "      <td>[current, price, bitcoin]</td>\n",
              "      <td>0</td>\n",
              "    </tr>\n",
              "  </tbody>\n",
              "</table>\n",
              "<p>1211638 rows × 6 columns</p>\n",
              "</div>"
            ],
            "text/plain": [
              "                          id  ... Sentimiento\n",
              "0        1132977023893139456  ...           0\n",
              "1        1132977101638897665  ...           0\n",
              "2        1132977132714561536  ...           0\n",
              "3        1132977076921933825  ...           2\n",
              "4        1130878355375501313  ...           2\n",
              "...                      ...  ...         ...\n",
              "1211633   991981234808066048  ...           0\n",
              "1211634   991980956700626944  ...           0\n",
              "1211635   991980920294043650  ...           0\n",
              "1211636   991980694036451328  ...           0\n",
              "1211637   994759368955650048  ...           0\n",
              "\n",
              "[1211638 rows x 6 columns]"
            ]
          },
          "execution_count": 35,
          "metadata": {},
          "output_type": "execute_result"
        }
      ],
      "source": [
        "todofinal = pd.concat([df_tweets_text.reset_index(drop=True), df_sent], axis=1)\n",
        "todofinal"
      ]
    },
    {
      "cell_type": "code",
      "execution_count": null,
      "metadata": {
        "id": "0_BKmv6bLKQ6"
      },
      "outputs": [],
      "source": [
        "df = todofinal.sort_values(by='date')"
      ]
    },
    {
      "cell_type": "code",
      "execution_count": null,
      "metadata": {
        "colab": {
          "base_uri": "https://localhost:8080/",
          "height": 174
        },
        "id": "NLZadzZ8LROL",
        "outputId": "0909282d-69ca-4de3-d1b9-8c84dbf52cb8"
      },
      "outputs": [
        {
          "output_type": "error",
          "ename": "NameError",
          "evalue": "ignored",
          "traceback": [
            "\u001b[0;31m---------------------------------------------------------------------------\u001b[0m",
            "\u001b[0;31mNameError\u001b[0m                                 Traceback (most recent call last)",
            "\u001b[0;32m<ipython-input-1-32787ff6d0c9>\u001b[0m in \u001b[0;36m<module>\u001b[0;34m()\u001b[0m\n\u001b[0;32m----> 1\u001b[0;31m \u001b[0mdf\u001b[0m\u001b[0;34m.\u001b[0m\u001b[0mreset_index\u001b[0m\u001b[0;34m(\u001b[0m\u001b[0mdrop\u001b[0m\u001b[0;34m=\u001b[0m\u001b[0;32mTrue\u001b[0m\u001b[0;34m)\u001b[0m\u001b[0;34m\u001b[0m\u001b[0;34m\u001b[0m\u001b[0m\n\u001b[0m",
            "\u001b[0;31mNameError\u001b[0m: name 'df' is not defined"
          ]
        }
      ],
      "source": [
        "df.reset_index(drop=True)"
      ]
    },
    {
      "cell_type": "code",
      "execution_count": null,
      "metadata": {
        "colab": {
          "base_uri": "https://localhost:8080/",
          "height": 300
        },
        "id": "nxq8n6N8LXkH",
        "outputId": "f34e6794-efde-44d8-8ce8-bdaa6885cf21"
      },
      "outputs": [
        {
          "name": "stderr",
          "output_type": "stream",
          "text": [
            "No handles with labels found to put in legend.\n"
          ]
        },
        {
          "data": {
            "image/png": "[encoded data removed]",
            "text/plain": [
              "<Figure size 504x288 with 1 Axes>"
            ]
          },
          "metadata": {},
          "output_type": "display_data"
        }
      ],
      "source": [
        "import matplotlib.pyplot as plt\n",
        "\n",
        "fig, ax = plt.subplots(figsize=(7, 4)) \n",
        "\n",
        "df[\"date\"]=pd.to_datetime(df[\"date\"])\n",
        "df = df.set_index(\"date\")\n",
        "df = df[['Sentimiento']].resample('1M').mean()\n",
        "ax.plot(df.index, df.Sentimiento)\n",
        "\n",
        "ax.set_title(\"Sentimiento promedio de los tweets por mes\")\n",
        "ax.legend();"
      ]
    },
    {
      "cell_type": "code",
      "source": [
        "#cantidad de tweets\n",
        "\n"
      ],
      "metadata": {
        "id": "Qgo02nlaS05u"
      },
      "execution_count": null,
      "outputs": []
    },
    {
      "cell_type": "markdown",
      "metadata": {
        "id": "uHzIucpPQ9N2"
      },
      "source": []
    },
    {
      "cell_type": "markdown",
      "metadata": {
        "id": "UW_i7JsaQ9ql"
      },
      "source": [
        "# MAS QUE UN SENTIMIENTO UNA EMOCION; COLO COLO LO MAS GRANDE P2"
      ]
    },
    {
      "cell_type": "code",
      "execution_count": null,
      "metadata": {
        "colab": {
          "base_uri": "https://localhost:8080/"
        },
        "id": "bFQVGeIUQ9qn",
        "outputId": "9a3ff0cc-b099-4aa2-d7dd-2599d370d66a"
      },
      "outputs": [
        {
          "output_type": "stream",
          "name": "stdout",
          "text": [
            "Downloading...\n",
            "From: https://drive.google.com/uc?id=1414xTRA1c58ONehXk-ZUkIrarFi8e7Kl\n",
            "To: /content/tweets.csv\n",
            "100% 4.19G/4.19G [01:12<00:00, 58.2MB/s]\n"
          ]
        }
      ],
      "source": [
        "!gdown --id 1414xTRA1c58ONehXk-ZUkIrarFi8e7Kl\n",
        "#https://drive.google.com/file/d/1414xTRA1c58ONehXk-ZUkIrarFi8e7Kl/view?usp=sharing"
      ]
    },
    {
      "cell_type": "code",
      "execution_count": null,
      "metadata": {
        "id": "xa9K-Ud5Q9qp"
      },
      "outputs": [],
      "source": [
        "#Tweets\n",
        "df_tweets = pd.read_csv('/content/tweets.csv', delimiter=\";\", skiprows=0, lineterminator=\"\\n\" )\n"
      ]
    },
    {
      "cell_type": "code",
      "execution_count": null,
      "metadata": {
        "id": "SpKaGsGpQ9qr"
      },
      "outputs": [],
      "source": [
        "\n",
        "\n",
        "df_tweets.columns = [\"id\", \"user\", \"fullname\", \"url\", \"timestamp\", \"replies\",\"likes\",\"retweets\",\"text\"] #le pongo el nombre a las columnas\n",
        "\n",
        "#Borramos ultima fila por tema del corte de la wa, para el dataset entero eliminar la siguiente fila\n",
        "df_tweets.drop(df_tweets.tail(1).index,inplace=True) # drop last n rows\n",
        "\n",
        "df_tweets_text = df_tweets[['id','text','likes','timestamp']] #extraemos solo las que nos importan\n",
        "df_tweets_text ['date'] = pd.to_datetime(df_tweets_text ['timestamp'],format= '%Y-%m-%d').dt.date  #creamos la columna date son solo año-mes-dia\n",
        "df_tweets_text =df_tweets_text[['id','text','likes','date']]\n",
        "\n"
      ]
    },
    {
      "cell_type": "code",
      "execution_count": null,
      "metadata": {
        "colab": {
          "base_uri": "https://localhost:8080/",
          "height": 424
        },
        "id": "0kSq25MRQ9qs",
        "outputId": "cd17549b-b7c6-4d7a-940d-b5d026959d62"
      },
      "outputs": [
        {
          "output_type": "execute_result",
          "data": {
            "text/html": [
              "<div>\n",
              "<style scoped>\n",
              "    .dataframe tbody tr th:only-of-type {\n",
              "        vertical-align: middle;\n",
              "    }\n",
              "\n",
              "    .dataframe tbody tr th {\n",
              "        vertical-align: top;\n",
              "    }\n",
              "\n",
              "    .dataframe thead th {\n",
              "        text-align: right;\n",
              "    }\n",
              "</style>\n",
              "<table border=\"1\" class=\"dataframe\">\n",
              "  <thead>\n",
              "    <tr style=\"text-align: right;\">\n",
              "      <th></th>\n",
              "      <th>id</th>\n",
              "      <th>text</th>\n",
              "      <th>likes</th>\n",
              "      <th>date</th>\n",
              "    </tr>\n",
              "  </thead>\n",
              "  <tbody>\n",
              "    <tr>\n",
              "      <th>0</th>\n",
              "      <td>1.132977e+18</td>\n",
              "      <td>È appena uscito un nuovo video! LES CRYPTOMONN...</td>\n",
              "      <td>0</td>\n",
              "      <td>2019-05-27</td>\n",
              "    </tr>\n",
              "    <tr>\n",
              "      <th>1</th>\n",
              "      <td>1.132977e+18</td>\n",
              "      <td>Cardano: Digitize Currencies; EOS https://t.co...</td>\n",
              "      <td>0</td>\n",
              "      <td>2019-05-27</td>\n",
              "    </tr>\n",
              "    <tr>\n",
              "      <th>2</th>\n",
              "      <td>1.132977e+18</td>\n",
              "      <td>Another Test tweet that wasn't caught in the s...</td>\n",
              "      <td>2</td>\n",
              "      <td>2019-05-27</td>\n",
              "    </tr>\n",
              "    <tr>\n",
              "      <th>3</th>\n",
              "      <td>1.132977e+18</td>\n",
              "      <td>Current Crypto Prices! \\n\\nBTC: $8721.99 USD\\n...</td>\n",
              "      <td>0</td>\n",
              "      <td>2019-05-27</td>\n",
              "    </tr>\n",
              "    <tr>\n",
              "      <th>4</th>\n",
              "      <td>1.132977e+18</td>\n",
              "      <td>Spiv (Nosar Baz): BITCOIN Is An Asset &amp;amp; NO...</td>\n",
              "      <td>0</td>\n",
              "      <td>2019-05-27</td>\n",
              "    </tr>\n",
              "    <tr>\n",
              "      <th>...</th>\n",
              "      <td>...</td>\n",
              "      <td>...</td>\n",
              "      <td>...</td>\n",
              "      <td>...</td>\n",
              "    </tr>\n",
              "    <tr>\n",
              "      <th>16889759</th>\n",
              "      <td>1.198266e+18</td>\n",
              "      <td>Daily profit for HODLING BTC since 2013 Data t...</td>\n",
              "      <td>0</td>\n",
              "      <td>2019-11-23</td>\n",
              "    </tr>\n",
              "    <tr>\n",
              "      <th>16889760</th>\n",
              "      <td>1.198262e+18</td>\n",
              "      <td>Happy #FibonacciDay \\n\\nA while back I created...</td>\n",
              "      <td>16</td>\n",
              "      <td>2019-11-23</td>\n",
              "    </tr>\n",
              "    <tr>\n",
              "      <th>16889761</th>\n",
              "      <td>1.198266e+18</td>\n",
              "      <td>Bitcoin Suisse Certificates :) https://t.co/nd...</td>\n",
              "      <td>0</td>\n",
              "      <td>2019-11-23</td>\n",
              "    </tr>\n",
              "    <tr>\n",
              "      <th>16889762</th>\n",
              "      <td>1.198266e+18</td>\n",
              "      <td>Register now for the early access of the Codug...</td>\n",
              "      <td>0</td>\n",
              "      <td>2019-11-23</td>\n",
              "    </tr>\n",
              "    <tr>\n",
              "      <th>16889763</th>\n",
              "      <td>1.198266e+18</td>\n",
              "      <td>@btc \\n@btc \\nDo you know that BTC Baskets isn...</td>\n",
              "      <td>0</td>\n",
              "      <td>2019-11-23</td>\n",
              "    </tr>\n",
              "  </tbody>\n",
              "</table>\n",
              "<p>16889764 rows × 4 columns</p>\n",
              "</div>"
            ],
            "text/plain": [
              "                    id  ...        date\n",
              "0         1.132977e+18  ...  2019-05-27\n",
              "1         1.132977e+18  ...  2019-05-27\n",
              "2         1.132977e+18  ...  2019-05-27\n",
              "3         1.132977e+18  ...  2019-05-27\n",
              "4         1.132977e+18  ...  2019-05-27\n",
              "...                ...  ...         ...\n",
              "16889759  1.198266e+18  ...  2019-11-23\n",
              "16889760  1.198262e+18  ...  2019-11-23\n",
              "16889761  1.198266e+18  ...  2019-11-23\n",
              "16889762  1.198266e+18  ...  2019-11-23\n",
              "16889763  1.198266e+18  ...  2019-11-23\n",
              "\n",
              "[16889764 rows x 4 columns]"
            ]
          },
          "metadata": {},
          "execution_count": 6
        }
      ],
      "source": [
        "from sklearn.feature_extraction.text import TfidfVectorizer\n",
        "import nltk\n",
        "nltk.download('stopwords')\n",
        "nltk.download('punkt')\n",
        "from nltk.corpus import stopwords\n",
        "from nltk.tokenize import word_tokenize\n",
        "import pandas as pd\n",
        "# Configuración warnings\n",
        "# ==============================================================================\n",
        "import warnings\n",
        "warnings.filterwarnings('ignore')\n",
        "# Langdetect\n",
        "# ==============================================================================\n",
        "!pip install langdetect\n",
        "import langdetect\n",
        "# pycld2\n",
        "# ==============================================================================\n",
        "# pycld3\n",
        "# ==============================================================================\n",
        "!pip install -U pycld3\n",
        "import cld3\n",
        "import re\n",
        "\n",
        "!gdown --id 1414xTRA1c58ONehXk-ZUkIrarFi8e7Kl\n",
        "#https://drive.google.com/file/d/1414xTRA1c58ONehXk-ZUkIrarFi8e7Kl/view?usp=sharing\n",
        "#Tweets\n",
        "df_tweets = pd.read_csv('/content/tweets.csv', delimiter=\";\", skiprows=0, lineterminator=\"\\n\" )\n",
        "\n",
        "df_tweets.columns = [\"id\", \"user\", \"fullname\", \"url\", \"timestamp\", \"replies\",\"likes\",\"retweets\",\"text\"] #le pongo el nombre a las columnas\n",
        "\n",
        "#Borramos ultima fila por tema del corte de la wa, para el dataset entero eliminar la siguiente fila\n",
        "df_tweets.drop(df_tweets.tail(1).index,inplace=True) # drop last n rows\n",
        "\n",
        "df_tweets_text = df_tweets[['id','text','likes','timestamp']] #extraemos solo las que nos importan\n",
        "df_tweets_text ['date'] = pd.to_datetime(df_tweets_text ['timestamp'],format= '%Y-%m-%d').dt.date  #creamos la columna date son solo año-mes-dia\n",
        "df_tweets_text =df_tweets_text[['id','text','likes','date']]\n",
        "\n",
        "\n",
        "#caso provisorio para trabajar rapido con un pequeño conjunto de tweets\n",
        "df_tweets_text#=df_tweets_text.iloc[0:100]\n",
        "#Filtrar en inglish plis\n",
        "largo=df_tweets_text.shape[0]\n",
        "df_en=pd.DataFrame()\n",
        "delete=[]\n",
        "for x in range(largo):\n",
        "  if cld3.get_language(df_tweets_text.loc[x]['text'])[0]=='zh':\n",
        "    continue\n",
        "  else:\n",
        "    delete+=[x]\n",
        "df_tweets_text=df_tweets_text.drop(delete,axis=0)\n",
        "df_tweets_text"
      ]
    },
    {
      "cell_type": "code",
      "execution_count": null,
      "metadata": {
        "id": "mLz-F44RQ9qt",
        "colab": {
          "base_uri": "https://localhost:8080/",
          "height": 403
        },
        "outputId": "0609e651-c955-4b93-90f1-3ebc1ea6f877"
      },
      "outputs": [
        {
          "output_type": "error",
          "ename": "KeyboardInterrupt",
          "evalue": "ignored",
          "traceback": [
            "\u001b[0;31m---------------------------------------------------------------------------\u001b[0m",
            "\u001b[0;31mKeyboardInterrupt\u001b[0m                         Traceback (most recent call last)",
            "\u001b[0;32m<ipython-input-7-59ec2d56de04>\u001b[0m in \u001b[0;36m<module>\u001b[0;34m()\u001b[0m\n\u001b[1;32m      4\u001b[0m \u001b[0mdelete\u001b[0m\u001b[0;34m=\u001b[0m\u001b[0;34m[\u001b[0m\u001b[0;34m]\u001b[0m\u001b[0;34m\u001b[0m\u001b[0;34m\u001b[0m\u001b[0m\n\u001b[1;32m      5\u001b[0m \u001b[0;32mfor\u001b[0m \u001b[0mx\u001b[0m \u001b[0;32min\u001b[0m \u001b[0mrange\u001b[0m\u001b[0;34m(\u001b[0m\u001b[0mlargo\u001b[0m\u001b[0;34m)\u001b[0m\u001b[0;34m:\u001b[0m\u001b[0;34m\u001b[0m\u001b[0;34m\u001b[0m\u001b[0m\n\u001b[0;32m----> 6\u001b[0;31m   \u001b[0;32mif\u001b[0m \u001b[0mcld3\u001b[0m\u001b[0;34m.\u001b[0m\u001b[0mget_language\u001b[0m\u001b[0;34m(\u001b[0m\u001b[0mdf_tweets_text\u001b[0m\u001b[0;34m.\u001b[0m\u001b[0mloc\u001b[0m\u001b[0;34m[\u001b[0m\u001b[0mx\u001b[0m\u001b[0;34m]\u001b[0m\u001b[0;34m[\u001b[0m\u001b[0;34m'text'\u001b[0m\u001b[0;34m]\u001b[0m\u001b[0;34m)\u001b[0m\u001b[0;34m[\u001b[0m\u001b[0;36m0\u001b[0m\u001b[0;34m]\u001b[0m\u001b[0;34m==\u001b[0m\u001b[0;34m'zh'\u001b[0m\u001b[0;34m:\u001b[0m\u001b[0;34m\u001b[0m\u001b[0;34m\u001b[0m\u001b[0m\n\u001b[0m\u001b[1;32m      7\u001b[0m     \u001b[0;32mcontinue\u001b[0m\u001b[0;34m\u001b[0m\u001b[0;34m\u001b[0m\u001b[0m\n\u001b[1;32m      8\u001b[0m   \u001b[0;32melse\u001b[0m\u001b[0;34m:\u001b[0m\u001b[0;34m\u001b[0m\u001b[0;34m\u001b[0m\u001b[0m\n",
            "\u001b[0;32m/usr/local/lib/python3.7/dist-packages/pandas/core/indexing.py\u001b[0m in \u001b[0;36m__getitem__\u001b[0;34m(self, key)\u001b[0m\n\u001b[1;32m    877\u001b[0m \u001b[0;34m\u001b[0m\u001b[0m\n\u001b[1;32m    878\u001b[0m             \u001b[0mmaybe_callable\u001b[0m \u001b[0;34m=\u001b[0m \u001b[0mcom\u001b[0m\u001b[0;34m.\u001b[0m\u001b[0mapply_if_callable\u001b[0m\u001b[0;34m(\u001b[0m\u001b[0mkey\u001b[0m\u001b[0;34m,\u001b[0m \u001b[0mself\u001b[0m\u001b[0;34m.\u001b[0m\u001b[0mobj\u001b[0m\u001b[0;34m)\u001b[0m\u001b[0;34m\u001b[0m\u001b[0;34m\u001b[0m\u001b[0m\n\u001b[0;32m--> 879\u001b[0;31m             \u001b[0;32mreturn\u001b[0m \u001b[0mself\u001b[0m\u001b[0;34m.\u001b[0m\u001b[0m_getitem_axis\u001b[0m\u001b[0;34m(\u001b[0m\u001b[0mmaybe_callable\u001b[0m\u001b[0;34m,\u001b[0m \u001b[0maxis\u001b[0m\u001b[0;34m=\u001b[0m\u001b[0maxis\u001b[0m\u001b[0;34m)\u001b[0m\u001b[0;34m\u001b[0m\u001b[0;34m\u001b[0m\u001b[0m\n\u001b[0m\u001b[1;32m    880\u001b[0m \u001b[0;34m\u001b[0m\u001b[0m\n\u001b[1;32m    881\u001b[0m     \u001b[0;32mdef\u001b[0m \u001b[0m_is_scalar_access\u001b[0m\u001b[0;34m(\u001b[0m\u001b[0mself\u001b[0m\u001b[0;34m,\u001b[0m \u001b[0mkey\u001b[0m\u001b[0;34m:\u001b[0m \u001b[0mTuple\u001b[0m\u001b[0;34m)\u001b[0m\u001b[0;34m:\u001b[0m\u001b[0;34m\u001b[0m\u001b[0;34m\u001b[0m\u001b[0m\n",
            "\u001b[0;32m/usr/local/lib/python3.7/dist-packages/pandas/core/indexing.py\u001b[0m in \u001b[0;36m_getitem_axis\u001b[0;34m(self, key, axis)\u001b[0m\n\u001b[1;32m   1087\u001b[0m             \u001b[0mself\u001b[0m\u001b[0;34m.\u001b[0m\u001b[0m_validate_key\u001b[0m\u001b[0;34m(\u001b[0m\u001b[0mkey\u001b[0m\u001b[0;34m,\u001b[0m \u001b[0maxis\u001b[0m\u001b[0;34m)\u001b[0m\u001b[0;34m\u001b[0m\u001b[0;34m\u001b[0m\u001b[0m\n\u001b[1;32m   1088\u001b[0m             \u001b[0;32mreturn\u001b[0m \u001b[0mself\u001b[0m\u001b[0;34m.\u001b[0m\u001b[0m_get_slice_axis\u001b[0m\u001b[0;34m(\u001b[0m\u001b[0mkey\u001b[0m\u001b[0;34m,\u001b[0m \u001b[0maxis\u001b[0m\u001b[0;34m=\u001b[0m\u001b[0maxis\u001b[0m\u001b[0;34m)\u001b[0m\u001b[0;34m\u001b[0m\u001b[0;34m\u001b[0m\u001b[0m\n\u001b[0;32m-> 1089\u001b[0;31m         \u001b[0;32melif\u001b[0m \u001b[0mcom\u001b[0m\u001b[0;34m.\u001b[0m\u001b[0mis_bool_indexer\u001b[0m\u001b[0;34m(\u001b[0m\u001b[0mkey\u001b[0m\u001b[0;34m)\u001b[0m\u001b[0;34m:\u001b[0m\u001b[0;34m\u001b[0m\u001b[0;34m\u001b[0m\u001b[0m\n\u001b[0m\u001b[1;32m   1090\u001b[0m             \u001b[0;32mreturn\u001b[0m \u001b[0mself\u001b[0m\u001b[0;34m.\u001b[0m\u001b[0m_getbool_axis\u001b[0m\u001b[0;34m(\u001b[0m\u001b[0mkey\u001b[0m\u001b[0;34m,\u001b[0m \u001b[0maxis\u001b[0m\u001b[0;34m=\u001b[0m\u001b[0maxis\u001b[0m\u001b[0;34m)\u001b[0m\u001b[0;34m\u001b[0m\u001b[0;34m\u001b[0m\u001b[0m\n\u001b[1;32m   1091\u001b[0m         \u001b[0;32melif\u001b[0m \u001b[0mis_list_like_indexer\u001b[0m\u001b[0;34m(\u001b[0m\u001b[0mkey\u001b[0m\u001b[0;34m)\u001b[0m\u001b[0;34m:\u001b[0m\u001b[0;34m\u001b[0m\u001b[0;34m\u001b[0m\u001b[0m\n",
            "\u001b[0;32m/usr/local/lib/python3.7/dist-packages/pandas/core/common.py\u001b[0m in \u001b[0;36mis_bool_indexer\u001b[0;34m(key)\u001b[0m\n\u001b[1;32m    124\u001b[0m     \"\"\"\n\u001b[1;32m    125\u001b[0m     if isinstance(key, (ABCSeries, np.ndarray, ABCIndex)) or (\n\u001b[0;32m--> 126\u001b[0;31m         \u001b[0mis_array_like\u001b[0m\u001b[0;34m(\u001b[0m\u001b[0mkey\u001b[0m\u001b[0;34m)\u001b[0m \u001b[0;32mand\u001b[0m \u001b[0mis_extension_array_dtype\u001b[0m\u001b[0;34m(\u001b[0m\u001b[0mkey\u001b[0m\u001b[0;34m.\u001b[0m\u001b[0mdtype\u001b[0m\u001b[0;34m)\u001b[0m\u001b[0;34m\u001b[0m\u001b[0;34m\u001b[0m\u001b[0m\n\u001b[0m\u001b[1;32m    127\u001b[0m     ):\n\u001b[1;32m    128\u001b[0m         \u001b[0;32mif\u001b[0m \u001b[0mkey\u001b[0m\u001b[0;34m.\u001b[0m\u001b[0mdtype\u001b[0m \u001b[0;34m==\u001b[0m \u001b[0mnp\u001b[0m\u001b[0;34m.\u001b[0m\u001b[0mobject_\u001b[0m\u001b[0;34m:\u001b[0m\u001b[0;34m\u001b[0m\u001b[0;34m\u001b[0m\u001b[0m\n",
            "\u001b[0;31mKeyboardInterrupt\u001b[0m: "
          ]
        }
      ],
      "source": [
        "#Filtrar en inglish plis\n",
        "largo=df_tweets_text.shape[0]\n",
        "df_en=pd.DataFrame()\n",
        "delete=[]\n",
        "for x in range(largo):\n",
        "  if cld3.get_language(df_tweets_text.loc[x]['text'])[0]=='zh':\n",
        "    continue\n",
        "  else:\n",
        "    delete+=[x]\n",
        "df_tweets_text=df_tweets_text.drop(delete,axis=0)\n",
        "df_tweets_text"
      ]
    },
    {
      "cell_type": "code",
      "execution_count": null,
      "metadata": {
        "id": "CcDxXOyoy4ZQ"
      },
      "outputs": [],
      "source": [
        "df_tweets_text.to_csv(\"tweets_inglish.csv\")"
      ]
    },
    {
      "cell_type": "code",
      "execution_count": null,
      "metadata": {
        "id": "5sXA_xGdzph-"
      },
      "outputs": [],
      "source": [
        "from google.colab import files\n",
        "files.download(\"tweets_inglish.csv\")"
      ]
    },
    {
      "cell_type": "code",
      "execution_count": null,
      "metadata": {
        "id": "jWvzZwYVQ9qv"
      },
      "outputs": [],
      "source": [
        "import re\n",
        "def limpiar_tokenizar(texto):\n",
        "    '''\n",
        "    Esta función limpia y tokeniza el texto en palabras individuales.\n",
        "    El orden en el que se va limpiando el texto no es arbitrario.\n",
        "    El listado de signos de puntuación se ha obtenido de: print(string.punctuation)\n",
        "    y re.escape(string.punctuation)\n",
        "    '''\n",
        "    \n",
        "    # Se convierte todo el texto a minúsculas\n",
        "    nuevo_texto = texto.lower()\n",
        "    # Eliminación de páginas web (palabras que empiezan por \"http\")\n",
        "    nuevo_texto = re.sub('http\\S+', ' ', nuevo_texto)\n",
        "    # Eliminación de signos de puntuación\n",
        "    regex = '[\\\\!\\\\\"\\\\#\\\\$\\\\%\\\\&\\\\\\'\\\\(\\\\)\\\\*\\\\+\\\\,\\\\-\\\\.\\\\/\\\\:\\\\;\\\\<\\\\=\\\\>\\\\?\\\\@\\\\[\\\\\\\\\\\\]\\\\^_\\\\`\\\\{\\\\|\\\\}\\\\~]'\n",
        "    nuevo_texto = re.sub(regex , ' ', nuevo_texto)\n",
        "    # Eliminación de números\n",
        "    nuevo_texto = re.sub(\"\\d+\", ' ', nuevo_texto)\n",
        "    # Eliminación de espacios en blanco múltiples\n",
        "    nuevo_texto = re.sub(\"\\\\s+\", ' ', nuevo_texto)\n",
        "    # Tokenización por palabras individuales\n",
        "    nuevo_texto = nuevo_texto.split(sep = ' ')\n",
        "    # Eliminación de tokens con una longitud < 2\n",
        "    nuevo_texto = [token for token in nuevo_texto if len(token) > 1]\n",
        "    \n",
        "    return(nuevo_texto)"
      ]
    },
    {
      "cell_type": "code",
      "execution_count": null,
      "metadata": {
        "colab": {
          "base_uri": "https://localhost:8080/",
          "height": 556
        },
        "id": "LH2BoveZQ9qw",
        "outputId": "3df34c31-4238-4222-bc53-b141ff724067"
      },
      "outputs": [
        {
          "data": {
            "text/html": [
              "<div>\n",
              "<style scoped>\n",
              "    .dataframe tbody tr th:only-of-type {\n",
              "        vertical-align: middle;\n",
              "    }\n",
              "\n",
              "    .dataframe tbody tr th {\n",
              "        vertical-align: top;\n",
              "    }\n",
              "\n",
              "    .dataframe thead th {\n",
              "        text-align: right;\n",
              "    }\n",
              "</style>\n",
              "<table border=\"1\" class=\"dataframe\">\n",
              "  <thead>\n",
              "    <tr style=\"text-align: right;\">\n",
              "      <th></th>\n",
              "      <th>text</th>\n",
              "      <th>tokens</th>\n",
              "    </tr>\n",
              "  </thead>\n",
              "  <tbody>\n",
              "    <tr>\n",
              "      <th>2</th>\n",
              "      <td>Another Test tweet that wasn't caught in the s...</td>\n",
              "      <td>[another, test, tweet, that, wasn, caught, in,...</td>\n",
              "    </tr>\n",
              "    <tr>\n",
              "      <th>6</th>\n",
              "      <td>@nwoodfine We have been building on the real #...</td>\n",
              "      <td>[nwoodfine, we, have, been, building, on, the,...</td>\n",
              "    </tr>\n",
              "    <tr>\n",
              "      <th>9</th>\n",
              "      <td>CHANGE IS COMING...GET READY!!! Boom, Another ...</td>\n",
              "      <td>[change, is, coming, get, ready, boom, another...</td>\n",
              "    </tr>\n",
              "    <tr>\n",
              "      <th>10</th>\n",
              "      <td>One of the useful articles of Stefan; here is ...</td>\n",
              "      <td>[one, of, the, useful, articles, of, stefan, h...</td>\n",
              "    </tr>\n",
              "    <tr>\n",
              "      <th>11</th>\n",
              "      <td>BTC IS STILL GOING STRONG!!\\n\\nThus, we are gi...</td>\n",
              "      <td>[btc, is, still, going, strong, thus, we, are,...</td>\n",
              "    </tr>\n",
              "  </tbody>\n",
              "</table>\n",
              "</div>"
            ],
            "text/plain": [
              "                                                 text                                             tokens\n",
              "2   Another Test tweet that wasn't caught in the s...  [another, test, tweet, that, wasn, caught, in,...\n",
              "6   @nwoodfine We have been building on the real #...  [nwoodfine, we, have, been, building, on, the,...\n",
              "9   CHANGE IS COMING...GET READY!!! Boom, Another ...  [change, is, coming, get, ready, boom, another...\n",
              "10  One of the useful articles of Stefan; here is ...  [one, of, the, useful, articles, of, stefan, h...\n",
              "11  BTC IS STILL GOING STRONG!!\\n\\nThus, we are gi...  [btc, is, still, going, strong, thus, we, are,..."
            ]
          },
          "execution_count": 33,
          "metadata": {},
          "output_type": "execute_result"
        }
      ],
      "source": [
        "#Limpieza y tokenizacion de texto tokenizacion\n",
        "df_tweets_text['tokens'] = df_tweets_text['text'].apply(lambda x: limpiar_tokenizar(x))\n",
        "df_tweets_text[['text', 'tokens']].head()\n"
      ]
    },
    {
      "cell_type": "code",
      "execution_count": null,
      "metadata": {
        "id": "4o5GVPYLQ9qx"
      },
      "outputs": [],
      "source": [
        "#Filtrado para excluir stopwords\n",
        "stop_words=list(stopwords.words('english'))\n",
        "\n",
        "#Analisis de sentimiento, Se trabaja con diccionarios sentiment lexicon\n",
        "sens= pd.read_table('https://raw.githubusercontent.com/fnielsen/afinn/master/afinn/data/AFINN-en-165.txt',names = ['termino', 'sentimiento'])\n",
        "sent_dic = sens.set_index('termino').T.to_dict('list')\n",
        "\n",
        "total=[]\n",
        "for u in range(len(df_tweets_text)):\n",
        "  priori=0\n",
        "  l=df_tweets_text['tokens'].iloc[u]\n",
        "  for j in l:\n",
        "    if j in stop_words:\n",
        "      l.remove(j)\n",
        "    if j in sent_dic:\n",
        "      priori+=sent_dic[j][0]\n",
        "  total+=[priori]\n",
        "df_sent=pd.DataFrame(total,columns=[\"Sentimiento\"])\n"
      ]
    },
    {
      "cell_type": "code",
      "execution_count": null,
      "metadata": {
        "colab": {
          "base_uri": "https://localhost:8080/",
          "height": 1000
        },
        "id": "4aSPPgWXQ9qx",
        "outputId": "60f6a512-f392-4723-a5a2-7c3605dde7b5"
      },
      "outputs": [
        {
          "data": {
            "text/html": [
              "<div>\n",
              "<style scoped>\n",
              "    .dataframe tbody tr th:only-of-type {\n",
              "        vertical-align: middle;\n",
              "    }\n",
              "\n",
              "    .dataframe tbody tr th {\n",
              "        vertical-align: top;\n",
              "    }\n",
              "\n",
              "    .dataframe thead th {\n",
              "        text-align: right;\n",
              "    }\n",
              "</style>\n",
              "<table border=\"1\" class=\"dataframe\">\n",
              "  <thead>\n",
              "    <tr style=\"text-align: right;\">\n",
              "      <th></th>\n",
              "      <th>id</th>\n",
              "      <th>text</th>\n",
              "      <th>likes</th>\n",
              "      <th>date</th>\n",
              "      <th>tokens</th>\n",
              "      <th>Sentimiento</th>\n",
              "    </tr>\n",
              "  </thead>\n",
              "  <tbody>\n",
              "    <tr>\n",
              "      <th>0</th>\n",
              "      <td>1132977023893139456</td>\n",
              "      <td>Another Test tweet that wasn't caught in the s...</td>\n",
              "      <td>2.0</td>\n",
              "      <td>2019-05-27</td>\n",
              "      <td>[another, test, tweet, wasn, caught, the, stre...</td>\n",
              "      <td>0</td>\n",
              "    </tr>\n",
              "    <tr>\n",
              "      <th>1</th>\n",
              "      <td>1132977101638897665</td>\n",
              "      <td>@nwoodfine We have been building on the real #...</td>\n",
              "      <td>0.0</td>\n",
              "      <td>2019-05-27</td>\n",
              "      <td>[nwoodfine, have, building, the, real, bitcoin...</td>\n",
              "      <td>0</td>\n",
              "    </tr>\n",
              "    <tr>\n",
              "      <th>2</th>\n",
              "      <td>1132977132714561536</td>\n",
              "      <td>CHANGE IS COMING...GET READY!!! Boom, Another ...</td>\n",
              "      <td>0.0</td>\n",
              "      <td>2019-05-27</td>\n",
              "      <td>[change, coming, get, ready, boom, another, cb...</td>\n",
              "      <td>0</td>\n",
              "    </tr>\n",
              "    <tr>\n",
              "      <th>3</th>\n",
              "      <td>1132977076921933825</td>\n",
              "      <td>One of the useful articles of Stefan; here is ...</td>\n",
              "      <td>14.0</td>\n",
              "      <td>2019-05-27</td>\n",
              "      <td>[one, useful, articles, stefan, is, the, guide...</td>\n",
              "      <td>2</td>\n",
              "    </tr>\n",
              "    <tr>\n",
              "      <th>4</th>\n",
              "      <td>1130878355375501313</td>\n",
              "      <td>BTC IS STILL GOING STRONG!!\\n\\nThus, we are gi...</td>\n",
              "      <td>81.0</td>\n",
              "      <td>2019-05-21</td>\n",
              "      <td>[btc, still, going, strong, thus, are, giving,...</td>\n",
              "      <td>2</td>\n",
              "    </tr>\n",
              "    <tr>\n",
              "      <th>...</th>\n",
              "      <td>...</td>\n",
              "      <td>...</td>\n",
              "      <td>...</td>\n",
              "      <td>...</td>\n",
              "      <td>...</td>\n",
              "      <td>...</td>\n",
              "    </tr>\n",
              "    <tr>\n",
              "      <th>1211633</th>\n",
              "      <td>991981234808066048</td>\n",
              "      <td>Current price of #Bitcoin is $9180.00 via Chai...</td>\n",
              "      <td>1.0</td>\n",
              "      <td>2018-05-03</td>\n",
              "      <td>[current, price, bitcoin, via, chain, btcusd, ...</td>\n",
              "      <td>0</td>\n",
              "    </tr>\n",
              "    <tr>\n",
              "      <th>1211634</th>\n",
              "      <td>991980956700626944</td>\n",
              "      <td>T Shirt - Bitcoin The Future Will Be Blockchai...</td>\n",
              "      <td>0.0</td>\n",
              "      <td>2018-05-03</td>\n",
              "      <td>[shirt, bitcoin, future, be, blockchained, cry...</td>\n",
              "      <td>0</td>\n",
              "    </tr>\n",
              "    <tr>\n",
              "      <th>1211635</th>\n",
              "      <td>991980920294043650</td>\n",
              "      <td>The current price of 1 $BTC on May 3, 2018 at ...</td>\n",
              "      <td>0.0</td>\n",
              "      <td>2018-05-03</td>\n",
              "      <td>[current, price, btc, may, am]</td>\n",
              "      <td>0</td>\n",
              "    </tr>\n",
              "    <tr>\n",
              "      <th>1211636</th>\n",
              "      <td>991980694036451328</td>\n",
              "      <td>Current BTC Price: $ 9,180.00. The 24H Change ...</td>\n",
              "      <td>0.0</td>\n",
              "      <td>2018-05-03</td>\n",
              "      <td>[current, btc, price, change, volume, and, cur...</td>\n",
              "      <td>0</td>\n",
              "    </tr>\n",
              "    <tr>\n",
              "      <th>1211637</th>\n",
              "      <td>994759368955650048</td>\n",
              "      <td>Current price of Bitcoin is $8920.00\\r</td>\n",
              "      <td>0.0</td>\n",
              "      <td>2018-05-11</td>\n",
              "      <td>[current, price, bitcoin]</td>\n",
              "      <td>0</td>\n",
              "    </tr>\n",
              "  </tbody>\n",
              "</table>\n",
              "<p>1211638 rows × 6 columns</p>\n",
              "</div>"
            ],
            "text/plain": [
              "                          id  ... Sentimiento\n",
              "0        1132977023893139456  ...           0\n",
              "1        1132977101638897665  ...           0\n",
              "2        1132977132714561536  ...           0\n",
              "3        1132977076921933825  ...           2\n",
              "4        1130878355375501313  ...           2\n",
              "...                      ...  ...         ...\n",
              "1211633   991981234808066048  ...           0\n",
              "1211634   991980956700626944  ...           0\n",
              "1211635   991980920294043650  ...           0\n",
              "1211636   991980694036451328  ...           0\n",
              "1211637   994759368955650048  ...           0\n",
              "\n",
              "[1211638 rows x 6 columns]"
            ]
          },
          "execution_count": 35,
          "metadata": {},
          "output_type": "execute_result"
        }
      ],
      "source": [
        "todofinal = pd.concat([df_tweets_text.reset_index(drop=True), df_sent], axis=1)\n",
        "todofinal"
      ]
    },
    {
      "cell_type": "code",
      "execution_count": null,
      "metadata": {
        "id": "2QK7RUvxQ9qz"
      },
      "outputs": [],
      "source": [
        "df = todofinal.sort_values(by='date')"
      ]
    },
    {
      "cell_type": "code",
      "execution_count": null,
      "metadata": {
        "colab": {
          "base_uri": "https://localhost:8080/",
          "height": 948
        },
        "id": "Nb4f2wvFQ9qz",
        "outputId": "c4ac0dd0-209c-43c1-caad-180d2608c930"
      },
      "outputs": [
        {
          "data": {
            "text/html": [
              "<div>\n",
              "<style scoped>\n",
              "    .dataframe tbody tr th:only-of-type {\n",
              "        vertical-align: middle;\n",
              "    }\n",
              "\n",
              "    .dataframe tbody tr th {\n",
              "        vertical-align: top;\n",
              "    }\n",
              "\n",
              "    .dataframe thead th {\n",
              "        text-align: right;\n",
              "    }\n",
              "</style>\n",
              "<table border=\"1\" class=\"dataframe\">\n",
              "  <thead>\n",
              "    <tr style=\"text-align: right;\">\n",
              "      <th></th>\n",
              "      <th>id</th>\n",
              "      <th>text</th>\n",
              "      <th>likes</th>\n",
              "      <th>date</th>\n",
              "      <th>tokens</th>\n",
              "      <th>Sentimiento</th>\n",
              "    </tr>\n",
              "  </thead>\n",
              "  <tbody>\n",
              "    <tr>\n",
              "      <th>0</th>\n",
              "      <td>52163467733499904</td>\n",
              "      <td>OH about bitcoin: this is way more exciting th...</td>\n",
              "      <td>0.0</td>\n",
              "      <td>2011-03-27</td>\n",
              "      <td>[oh, bitcoin, is, way, exciting, swatch, inter...</td>\n",
              "      <td>0</td>\n",
              "    </tr>\n",
              "    <tr>\n",
              "      <th>1</th>\n",
              "      <td>58381579101286400</td>\n",
              "      <td>I can't exactly explain what the hell it is, b...</td>\n",
              "      <td>3.0</td>\n",
              "      <td>2011-04-14</td>\n",
              "      <td>[exactly, explain, the, hell, bitcoin, is, the...</td>\n",
              "      <td>-4</td>\n",
              "    </tr>\n",
              "    <tr>\n",
              "      <th>2</th>\n",
              "      <td>62164245067988992</td>\n",
              "      <td>Decided since I can't by $1000 a month in bitc...</td>\n",
              "      <td>24.0</td>\n",
              "      <td>2011-04-24</td>\n",
              "      <td>[decided, since, by, month, bitcoin, spend, mo...</td>\n",
              "      <td>0</td>\n",
              "    </tr>\n",
              "    <tr>\n",
              "      <th>3</th>\n",
              "      <td>67910192188239872</td>\n",
              "      <td>@bitcoinmedia The Dollar Vigilante, the anarch...</td>\n",
              "      <td>9.0</td>\n",
              "      <td>2011-05-10</td>\n",
              "      <td>[bitcoinmedia, dollar, vigilante, anarchist, f...</td>\n",
              "      <td>1</td>\n",
              "    </tr>\n",
              "    <tr>\n",
              "      <th>4</th>\n",
              "      <td>68432019155197952</td>\n",
              "      <td>If you'd invested your money in BitCoin on Jan...</td>\n",
              "      <td>1.0</td>\n",
              "      <td>2011-05-11</td>\n",
              "      <td>[invested, money, bitcoin, jan, you, have, ret...</td>\n",
              "      <td>0</td>\n",
              "    </tr>\n",
              "    <tr>\n",
              "      <th>...</th>\n",
              "      <td>...</td>\n",
              "      <td>...</td>\n",
              "      <td>...</td>\n",
              "      <td>...</td>\n",
              "      <td>...</td>\n",
              "      <td>...</td>\n",
              "    </tr>\n",
              "    <tr>\n",
              "      <th>1211633</th>\n",
              "      <td>1134276181342248963</td>\n",
              "      <td>Yes. Good. we care law\\r</td>\n",
              "      <td>0.0</td>\n",
              "      <td>2019-05-31</td>\n",
              "      <td>[yes, good, care, law]</td>\n",
              "      <td>4</td>\n",
              "    </tr>\n",
              "    <tr>\n",
              "      <th>1211634</th>\n",
              "      <td>1134509893258321920</td>\n",
              "      <td>$BTC Hash rate is strong.\\r</td>\n",
              "      <td>0.0</td>\n",
              "      <td>2019-05-31</td>\n",
              "      <td>[btc, hash, rate, strong]</td>\n",
              "      <td>0</td>\n",
              "    </tr>\n",
              "    <tr>\n",
              "      <th>1211635</th>\n",
              "      <td>1134510475532595200</td>\n",
              "      <td>great\\r</td>\n",
              "      <td>0.0</td>\n",
              "      <td>2019-05-31</td>\n",
              "      <td>[great]</td>\n",
              "      <td>3</td>\n",
              "    </tr>\n",
              "    <tr>\n",
              "      <th>1211636</th>\n",
              "      <td>1134610938500407296</td>\n",
              "      <td>AWESOME CLOSE OF MONTH $BTC 👀\\r</td>\n",
              "      <td>0.0</td>\n",
              "      <td>2019-06-01</td>\n",
              "      <td>[awesome, close, month, btc]</td>\n",
              "      <td>4</td>\n",
              "    </tr>\n",
              "    <tr>\n",
              "      <th>1211637</th>\n",
              "      <td>1134614626132516865</td>\n",
              "      <td>XRP That’s all you need\\r</td>\n",
              "      <td>0.0</td>\n",
              "      <td>2019-06-01</td>\n",
              "      <td>[xrp, that’s, you, need]</td>\n",
              "      <td>0</td>\n",
              "    </tr>\n",
              "  </tbody>\n",
              "</table>\n",
              "<p>1211638 rows × 6 columns</p>\n",
              "</div>"
            ],
            "text/plain": [
              "                          id  ... Sentimiento\n",
              "0          52163467733499904  ...           0\n",
              "1          58381579101286400  ...          -4\n",
              "2          62164245067988992  ...           0\n",
              "3          67910192188239872  ...           1\n",
              "4          68432019155197952  ...           0\n",
              "...                      ...  ...         ...\n",
              "1211633  1134276181342248963  ...           4\n",
              "1211634  1134509893258321920  ...           0\n",
              "1211635  1134510475532595200  ...           3\n",
              "1211636  1134610938500407296  ...           4\n",
              "1211637  1134614626132516865  ...           0\n",
              "\n",
              "[1211638 rows x 6 columns]"
            ]
          },
          "execution_count": 61,
          "metadata": {},
          "output_type": "execute_result"
        }
      ],
      "source": [
        "df.reset_index(drop=True)"
      ]
    },
    {
      "cell_type": "code",
      "execution_count": null,
      "metadata": {
        "colab": {
          "base_uri": "https://localhost:8080/",
          "height": 73
        },
        "id": "Ce9XXJqfQ9q0",
        "outputId": "f34e6794-efde-44d8-8ce8-bdaa6885cf21"
      },
      "outputs": [
        {
          "name": "stderr",
          "output_type": "stream",
          "text": [
            "No handles with labels found to put in legend.\n"
          ]
        },
        {
          "data": {
            "image/png": "[encoded data removed]",
            "text/plain": [
              "<Figure size 504x288 with 1 Axes>"
            ]
          },
          "metadata": {},
          "output_type": "display_data"
        }
      ],
      "source": [
        "import matplotlib.pyplot as plt\n",
        "\n",
        "fig, ax = plt.subplots(figsize=(7, 4)) \n",
        "\n",
        "df[\"date\"]=pd.to_datetime(df[\"date\"])\n",
        "df = df.set_index(\"date\")\n",
        "df = df[['Sentimiento']].resample('2M').mean()\n",
        "ax.plot(df.index, df.Sentimiento)\n",
        "\n",
        "ax.set_title(\"Sentimiento promedio de los tweets por mes\")\n",
        "ax.legend();"
      ]
    }
  ],
  "metadata": {
    "colab": {
      "provenance": []
    },
    "kernelspec": {
      "display_name": "Python 3",
      "language": "python",
      "name": "python3"
    },
    "language_info": {
      "codemirror_mode": {
        "name": "ipython",
        "version": 3
      },
      "file_extension": ".py",
      "mimetype": "text/x-python",
      "name": "python",
      "nbconvert_exporter": "python",
      "pygments_lexer": "ipython3",
      "version": "3.7.6"
    }
  },
  "nbformat": 4,
  "nbformat_minor": 0
}